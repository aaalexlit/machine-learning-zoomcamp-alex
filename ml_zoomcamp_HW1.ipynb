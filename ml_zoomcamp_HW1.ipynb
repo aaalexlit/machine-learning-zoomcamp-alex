{
  "nbformat": 4,
  "nbformat_minor": 0,
  "metadata": {
    "colab": {
      "provenance": [],
      "authorship_tag": "ABX9TyNQLuhyt6KuT0ppZq/hLysf",
      "include_colab_link": true
    },
    "kernelspec": {
      "name": "python3",
      "display_name": "Python 3"
    },
    "language_info": {
      "name": "python"
    }
  },
  "cells": [
    {
      "cell_type": "markdown",
      "metadata": {
        "id": "view-in-github",
        "colab_type": "text"
      },
      "source": [
        "<a href=\"https://colab.research.google.com/github/aaalexlit/machine-learning-zoomcamp-alex/blob/main/ml_zoomcamp_HW1.ipynb\" target=\"_parent\"><img src=\"https://colab.research.google.com/assets/colab-badge.svg\" alt=\"Open In Colab\"/></a>"
      ]
    },
    {
      "cell_type": "code",
      "execution_count": 1,
      "metadata": {
        "colab": {
          "base_uri": "https://localhost:8080/"
        },
        "id": "YtqKGU_z-4TD",
        "outputId": "a1514d1f-0b2a-4928-d64a-8ada7570fd4d"
      },
      "outputs": [
        {
          "output_type": "stream",
          "name": "stdout",
          "text": [
            "Python 3.10.12\n"
          ]
        }
      ],
      "source": [
        "!python -V"
      ]
    },
    {
      "cell_type": "markdown",
      "source": [
        "\n",
        "### Question 1\n",
        "\n",
        "What's the version of Pandas that you installed?\n",
        "\n",
        "You can get the version information using the `__version__` field:\n",
        "\n",
        "```python\n",
        "pd.__version__\n",
        "```"
      ],
      "metadata": {
        "id": "fNq5CJaqAp17"
      }
    },
    {
      "cell_type": "code",
      "source": [
        "import pandas as pd\n",
        "pd.__version__"
      ],
      "metadata": {
        "colab": {
          "base_uri": "https://localhost:8080/",
          "height": 35
        },
        "id": "8veOSFUP---2",
        "outputId": "f018c6e4-5784-4c6d-e998-16244ddf1364"
      },
      "execution_count": 3,
      "outputs": [
        {
          "output_type": "execute_result",
          "data": {
            "text/plain": [
              "'1.5.3'"
            ],
            "application/vnd.google.colaboratory.intrinsic+json": {
              "type": "string"
            }
          },
          "metadata": {},
          "execution_count": 3
        }
      ]
    },
    {
      "cell_type": "markdown",
      "source": [
        "### Getting the data\n",
        "\n",
        "For this homework, we'll use the California Housing Prices dataset. Download it from\n",
        "[here](https://raw.githubusercontent.com/alexeygrigorev/datasets/master/housing.csv).\n",
        "\n",
        "You can do it with wget:\n",
        "\n",
        "```bash\n",
        "wget https://raw.githubusercontent.com/alexeygrigorev/datasets/master/housing.csv\n",
        "```\n",
        "\n",
        "Or just open it with your browser and click \"Save as...\".\n",
        "\n",
        "Now read it with Pandas."
      ],
      "metadata": {
        "id": "yEwgRUUDA1Y3"
      }
    },
    {
      "cell_type": "code",
      "source": [
        "!wget https://raw.githubusercontent.com/alexeygrigorev/datasets/master/housing.csv\n"
      ],
      "metadata": {
        "colab": {
          "base_uri": "https://localhost:8080/"
        },
        "id": "4XFJGPo7_DSm",
        "outputId": "4133983c-0a54-4a0f-bb5d-1926bca0cf4f"
      },
      "execution_count": 4,
      "outputs": [
        {
          "output_type": "stream",
          "name": "stdout",
          "text": [
            "--2023-09-18 06:31:21--  https://raw.githubusercontent.com/alexeygrigorev/datasets/master/housing.csv\n",
            "Resolving raw.githubusercontent.com (raw.githubusercontent.com)... 185.199.108.133, 185.199.109.133, 185.199.110.133, ...\n",
            "Connecting to raw.githubusercontent.com (raw.githubusercontent.com)|185.199.108.133|:443... connected.\n",
            "HTTP request sent, awaiting response... 200 OK\n",
            "Length: 1423529 (1.4M) [text/plain]\n",
            "Saving to: ‘housing.csv’\n",
            "\n",
            "housing.csv         100%[===================>]   1.36M  --.-KB/s    in 0.06s   \n",
            "\n",
            "2023-09-18 06:31:21 (21.7 MB/s) - ‘housing.csv’ saved [1423529/1423529]\n",
            "\n"
          ]
        }
      ]
    },
    {
      "cell_type": "code",
      "source": [
        "housing_df = pd.read_csv('housing.csv')"
      ],
      "metadata": {
        "id": "6s671yBF_IK_"
      },
      "execution_count": 6,
      "outputs": []
    },
    {
      "cell_type": "markdown",
      "source": [
        "### Question 2\n",
        "\n",
        "How many columns are in the dataset?\n",
        "\n",
        "- 10\n",
        "- 6560\n",
        "- 10989\n",
        "- 20640"
      ],
      "metadata": {
        "id": "bcACLn3rBACT"
      }
    },
    {
      "cell_type": "code",
      "source": [
        "len(housing_df.columns)"
      ],
      "metadata": {
        "colab": {
          "base_uri": "https://localhost:8080/"
        },
        "id": "j12gFu6kA8Tt",
        "outputId": "fe295df8-3928-459a-96a1-c9228b28debc"
      },
      "execution_count": 8,
      "outputs": [
        {
          "output_type": "execute_result",
          "data": {
            "text/plain": [
              "10"
            ]
          },
          "metadata": {},
          "execution_count": 8
        }
      ]
    },
    {
      "cell_type": "markdown",
      "source": [
        "### Question 3\n",
        "\n",
        "Which columns in the dataset have missing values?\n",
        "\n",
        "- `total_rooms`\n",
        "- `total_bedrooms`\n",
        "- both of the above\n",
        "- no empty columns in the dataset"
      ],
      "metadata": {
        "id": "4blwGqdtA90k"
      }
    },
    {
      "cell_type": "code",
      "source": [
        "housing_df.isnull().sum()"
      ],
      "metadata": {
        "colab": {
          "base_uri": "https://localhost:8080/"
        },
        "id": "NNUzzgJzBRxu",
        "outputId": "c1fd74fd-5e8a-42ff-b1a1-b6b40e37d379"
      },
      "execution_count": 10,
      "outputs": [
        {
          "output_type": "execute_result",
          "data": {
            "text/plain": [
              "longitude               0\n",
              "latitude                0\n",
              "housing_median_age      0\n",
              "total_rooms             0\n",
              "total_bedrooms        207\n",
              "population              0\n",
              "households              0\n",
              "median_income           0\n",
              "median_house_value      0\n",
              "ocean_proximity         0\n",
              "dtype: int64"
            ]
          },
          "metadata": {},
          "execution_count": 10
        }
      ]
    },
    {
      "cell_type": "markdown",
      "source": [
        "### Question 4\n",
        "\n",
        "How many unique values does the `ocean_proximity` column have?\n",
        "\n",
        "- 3\n",
        "- 5\n",
        "- 7\n",
        "- 9\n"
      ],
      "metadata": {
        "id": "MtHp4tPcBZvE"
      }
    },
    {
      "cell_type": "code",
      "source": [
        "housing_df.ocean_proximity.nunique()"
      ],
      "metadata": {
        "colab": {
          "base_uri": "https://localhost:8080/"
        },
        "id": "QCQp0GV1CLT2",
        "outputId": "df11f081-2941-4363-cadc-7a333af14edb"
      },
      "execution_count": 11,
      "outputs": [
        {
          "output_type": "execute_result",
          "data": {
            "text/plain": [
              "5"
            ]
          },
          "metadata": {},
          "execution_count": 11
        }
      ]
    },
    {
      "cell_type": "markdown",
      "source": [
        "### Question 5\n",
        "\n",
        "What's the average value of the `median_house_value` for the houses located near the bay?\n",
        "\n",
        "- 49433\n",
        "- 124805\n",
        "- 259212\n",
        "- 380440"
      ],
      "metadata": {
        "id": "_9eUgcIcCRFg"
      }
    },
    {
      "cell_type": "code",
      "source": [
        "avg_median_house_value_near_the_bay = housing_df[housing_df.ocean_proximity == \"NEAR BAY\"].describe().median_house_value['mean']\n",
        "f'{avg_median_house_value_near_the_bay:.0f}'"
      ],
      "metadata": {
        "colab": {
          "base_uri": "https://localhost:8080/",
          "height": 35
        },
        "id": "iRKqL7_sDteo",
        "outputId": "29b1cb79-d47a-428b-9edb-2167ec685b13"
      },
      "execution_count": 21,
      "outputs": [
        {
          "output_type": "execute_result",
          "data": {
            "text/plain": [
              "'259212'"
            ],
            "application/vnd.google.colaboratory.intrinsic+json": {
              "type": "string"
            }
          },
          "metadata": {},
          "execution_count": 21
        }
      ]
    },
    {
      "cell_type": "markdown",
      "source": [
        "### Question 6\n",
        "\n",
        "1. Calculate the average of `total_bedrooms` column in the dataset.\n",
        "2. Use the `fillna` method to fill the missing values in `total_bedrooms` with the mean value from the previous step.\n",
        "3. Now, calculate the average of `total_bedrooms` again.\n",
        "4. Has it changed?\n",
        "\n",
        "Has it changed?\n",
        "\n",
        "> Hint: take into account only 3 digits after the decimal point.\n",
        "\n",
        "- Yes\n",
        "- No"
      ],
      "metadata": {
        "id": "_cHcrd7aEvkx"
      }
    },
    {
      "cell_type": "code",
      "source": [
        "avg_total_bedrooms = housing_df.total_bedrooms.mean()\n",
        "avg_total_bedrooms"
      ],
      "metadata": {
        "colab": {
          "base_uri": "https://localhost:8080/"
        },
        "id": "yPgDE32ZFrE9",
        "outputId": "4b0c5d8c-583e-4b7d-bbda-b8f82162bcc4"
      },
      "execution_count": 24,
      "outputs": [
        {
          "output_type": "execute_result",
          "data": {
            "text/plain": [
              "537.8705525375618"
            ]
          },
          "metadata": {},
          "execution_count": 24
        }
      ]
    },
    {
      "cell_type": "code",
      "source": [
        "housing_df.fillna(avg_total_bedrooms).total_bedrooms.mean()"
      ],
      "metadata": {
        "colab": {
          "base_uri": "https://localhost:8080/"
        },
        "id": "HdJFKQvSF3Ek",
        "outputId": "ce3e2d1a-bba2-4a89-dd0c-96a0457ee8ac"
      },
      "execution_count": 25,
      "outputs": [
        {
          "output_type": "execute_result",
          "data": {
            "text/plain": [
              "537.8705525375617"
            ]
          },
          "metadata": {},
          "execution_count": 25
        }
      ]
    },
    {
      "cell_type": "markdown",
      "source": [
        "### Question 7\n",
        "\n",
        "1. Select all the options located on islands.\n",
        "2. Select only columns `housing_median_age`, `total_rooms`, `total_bedrooms`.\n",
        "3. Get the underlying NumPy array. Let's call it `X`.\n",
        "4. Compute matrix-matrix multiplication between the transpose of `X` and `X`. To get the transpose, use `X.T`. Let's call the result `XTX`.\n",
        "5. Compute the inverse of `XTX`.\n",
        "6. Create an array `y` with values `[950, 1300, 800, 1000, 1300]`.\n",
        "7. Multiply the inverse of `XTX` with the transpose of `X`, and then multiply the result by `y`. Call the result `w`.\n",
        "8. What's the value of the last element of `w`?\n",
        "\n",
        "> **Note**: You just implemented linear regression. We'll talk about it in the next lesson.\n",
        "\n",
        "- -1.4812\n",
        "- 0.001\n",
        "- 5.6992\n",
        "- 23.1233"
      ],
      "metadata": {
        "id": "K9-1YNEVGSXE"
      }
    },
    {
      "cell_type": "code",
      "source": [
        "import numpy as np"
      ],
      "metadata": {
        "id": "HYaaYueVHwiW"
      },
      "execution_count": 34,
      "outputs": []
    },
    {
      "cell_type": "code",
      "source": [
        "X = housing_df[housing_df.ocean_proximity == 'ISLAND'][['housing_median_age', 'total_rooms', 'total_bedrooms']].to_numpy()\n",
        "XTX = X.T @ X\n",
        "XTX_inv = np.linalg.inv(XTX)\n",
        "y = np.array([950, 1300, 800, 1000, 1300])\n",
        "w = XTX_inv @ X.T @ y\n",
        "w[-1]"
      ],
      "metadata": {
        "colab": {
          "base_uri": "https://localhost:8080/"
        },
        "id": "OBPK2Na6G2BI",
        "outputId": "a9b56fc6-4abb-4db0-f8ad-d2e1d0fdc5ff"
      },
      "execution_count": 45,
      "outputs": [
        {
          "output_type": "execute_result",
          "data": {
            "text/plain": [
              "5.699229455065586"
            ]
          },
          "metadata": {},
          "execution_count": 45
        }
      ]
    },
    {
      "cell_type": "code",
      "source": [],
      "metadata": {
        "id": "ryp5z_wXKMcH"
      },
      "execution_count": null,
      "outputs": []
    }
  ]
}