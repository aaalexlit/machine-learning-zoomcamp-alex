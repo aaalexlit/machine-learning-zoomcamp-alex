{
 "cells": [
  {
   "cell_type": "code",
   "execution_count": 1,
   "id": "c9bb91c3-7330-4510-9f7c-c7a8d4b2631c",
   "metadata": {},
   "outputs": [],
   "source": [
    "import tensorflow.lite as tflite\n",
    "from PIL import Image\n",
    "import numpy as np\n",
    "\n",
    "from io import BytesIO\n",
    "from urllib import request"
   ]
  },
  {
   "cell_type": "code",
   "execution_count": 2,
   "id": "dd5349ef-423b-4ddd-9467-434c033d7c01",
   "metadata": {},
   "outputs": [],
   "source": [
    "def preprocess_input(x):\n",
    "    x /= 127.5\n",
    "    x -= 1\n",
    "    return x"
   ]
  },
  {
   "cell_type": "code",
   "execution_count": 3,
   "id": "f311286c-0814-4f8e-ad05-6bd187447a14",
   "metadata": {},
   "outputs": [],
   "source": [
    "def preprocess_img(img):\n",
    "    x = np.array(img.resize((299, 299)), dtype='float32')\n",
    "    X = np.expand_dims(x, axis=0)\n",
    "    X = preprocess_input(X)\n",
    "    return X"
   ]
  },
  {
   "cell_type": "code",
   "execution_count": 4,
   "id": "60941b45-9d7f-4a0c-b24a-422d13f7229d",
   "metadata": {},
   "outputs": [],
   "source": [
    "def read_img_from_url(url):\n",
    "    with request.urlopen(url) as resp:\n",
    "        buffer = resp.read()\n",
    "    stream = BytesIO(buffer)\n",
    "    img = Image.open(stream)\n",
    "    \n",
    "    return preprocess_img(img)"
   ]
  },
  {
   "cell_type": "code",
   "execution_count": 5,
   "id": "da87f329-e2a3-4cd5-858a-54c081a0049e",
   "metadata": {},
   "outputs": [],
   "source": [
    "def read_img_from_file(file_name):\n",
    "    # Read the input image and resize\n",
    "    with Image.open(file_name) as img:\n",
    "        return preprocess_img(img)"
   ]
  },
  {
   "cell_type": "code",
   "execution_count": 6,
   "id": "a52e6d1c-54cc-4465-80dd-e7760a32ef88",
   "metadata": {},
   "outputs": [],
   "source": [
    "X = read_img_from_url('http://bit.ly/mlbookcamp-pants')"
   ]
  },
  {
   "cell_type": "code",
   "execution_count": 7,
   "id": "8f11f21e-c140-4115-a03d-8851328d571c",
   "metadata": {},
   "outputs": [],
   "source": [
    "# to include rescaling layer for xception\n",
    "# To rescale an input in the [0, 255] range to be in the [-1, 1]\n",
    "\n",
    "# layers.Rescaling(scale=1./127.5, offset=-1)"
   ]
  },
  {
   "cell_type": "code",
   "execution_count": 8,
   "id": "e5d30f59-141d-4351-90af-678a312c8eed",
   "metadata": {},
   "outputs": [],
   "source": [
    "interpreter = tflite.Interpreter(model_path='clothing-model.tflite')\n",
    "# interpreter.allocate_tensors()"
   ]
  },
  {
   "cell_type": "code",
   "execution_count": 9,
   "id": "12716c10-2cdd-4609-9270-c0f0502a71bc",
   "metadata": {},
   "outputs": [
    {
     "data": {
      "text/plain": [
       "{'serving_default': {'inputs': ['input_8'], 'outputs': ['dense_7']}}"
      ]
     },
     "execution_count": 9,
     "metadata": {},
     "output_type": "execute_result"
    }
   ],
   "source": [
    "interpreter.get_signature_list()"
   ]
  },
  {
   "cell_type": "code",
   "execution_count": 10,
   "id": "2488eba0-9610-48e4-963d-0b9668f4144b",
   "metadata": {},
   "outputs": [],
   "source": [
    "predictions_lite = interpreter.get_signature_runner('serving_default')(input_8=X)['dense_7']"
   ]
  },
  {
   "cell_type": "code",
   "execution_count": 11,
   "id": "35fefab2-200f-4d39-ab56-0103fbb68520",
   "metadata": {},
   "outputs": [],
   "source": [
    "classes = [\n",
    "    'dress',\n",
    "    'hat',\n",
    "    'longsleeve',\n",
    "    'outwear',\n",
    "    'pants',\n",
    "    'shirt',\n",
    "    'shoes',\n",
    "    'shorts',\n",
    "    'skirt',\n",
    "    't-shirt'\n",
    "]"
   ]
  },
  {
   "cell_type": "code",
   "execution_count": 12,
   "id": "cb5e6e38-6d52-46a4-a0cb-0eba34364753",
   "metadata": {},
   "outputs": [
    {
     "data": {
      "text/plain": [
       "{'dress': -1.9791993,\n",
       " 'hat': -4.723823,\n",
       " 'longsleeve': -2.1309288,\n",
       " 'outwear': -1.049135,\n",
       " 'pants': 9.9577465,\n",
       " 'shirt': -3.027922,\n",
       " 'shoes': -3.8510282,\n",
       " 'shorts': 3.5252106,\n",
       " 'skirt': -2.74625,\n",
       " 't-shirt': -4.7122455}"
      ]
     },
     "execution_count": 12,
     "metadata": {},
     "output_type": "execute_result"
    }
   ],
   "source": [
    "dict(zip(classes, predictions_lite[0]))\n"
   ]
  },
  {
   "cell_type": "code",
   "execution_count": null,
   "id": "162d73ea-4ed1-494a-8bb4-e4fe9f2c26b0",
   "metadata": {},
   "outputs": [],
   "source": []
  }
 ],
 "metadata": {
  "kernelspec": {
   "display_name": "Python 3 (ipykernel)",
   "language": "python",
   "name": "python3"
  },
  "language_info": {
   "codemirror_mode": {
    "name": "ipython",
    "version": 3
   },
   "file_extension": ".py",
   "mimetype": "text/x-python",
   "name": "python",
   "nbconvert_exporter": "python",
   "pygments_lexer": "ipython3",
   "version": "3.10.13"
  }
 },
 "nbformat": 4,
 "nbformat_minor": 5
}
