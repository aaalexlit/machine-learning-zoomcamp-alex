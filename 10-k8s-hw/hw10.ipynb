{
 "cells": [
  {
   "cell_type": "markdown",
   "metadata": {},
   "source": [
    "## Question 1\n",
    "\n",
    "Run it to test that it's working locally:\n",
    "\n",
    "```bash\n",
    "docker run -it --rm -p 9696:9696 zoomcamp-model:hw10\n",
    "```\n",
    "\n",
    "And in another terminal, execute `q6_test.py` file:\n",
    "\n",
    "```bash\n",
    "python q6_test.py\n",
    "```\n",
    "\n",
    "You should see this:\n",
    "\n",
    "```python\n",
    "{'get_credit': True, 'get_credit_probability': <value>}\n",
    "```\n",
    "\n",
    "Here `<value>` is the probability of getting a credit card. You need to choose the right one.\n",
    "\n",
    "* 0.3269\n",
    "* 0.5269\n",
    "* 0.7269\n",
    "* 0.9269\n",
    "\n",
    "Now you can stop the container running in Docker."
   ]
  },
  {
   "cell_type": "code",
   "execution_count": null,
   "metadata": {},
   "outputs": [],
   "source": [
    "docker run -it --rm -p 9696:9696 -d svizor/zoomcamp-model:hw10"
   ]
  },
  {
   "cell_type": "code",
   "execution_count": 2,
   "metadata": {},
   "outputs": [
    {
     "name": "stdout",
     "output_type": "stream",
     "text": [
      "{'get_credit': True, 'get_credit_probability': 0.726936946355423}\n"
     ]
    }
   ],
   "source": [
    "!python q6_test.py"
   ]
  },
  {
   "cell_type": "markdown",
   "metadata": {},
   "source": [
    "## Question 2\n",
    "\n",
    "What's the version of `kind` that you have? \n",
    "\n",
    "Use `kind --version` to find out."
   ]
  },
  {
   "cell_type": "code",
   "execution_count": 3,
   "metadata": {},
   "outputs": [
    {
     "name": "stdout",
     "output_type": "stream",
     "text": [
      "kind version 0.20.0\n"
     ]
    }
   ],
   "source": [
    "!kind --version"
   ]
  },
  {
   "cell_type": "markdown",
   "metadata": {},
   "source": [
    "## Creating a cluster\n",
    "\n",
    "Now let's create a cluster with `kind`:\n",
    "\n",
    "```bash\n",
    "kind create cluster\n",
    "```\n",
    "\n",
    "And check with `kubectl` that it was successfully created:\n",
    "\n",
    "```bash\n",
    "kubectl cluster-info\n",
    "```"
   ]
  },
  {
   "cell_type": "code",
   "execution_count": 6,
   "metadata": {},
   "outputs": [
    {
     "name": "stdout",
     "output_type": "stream",
     "text": [
      "\u001b[31mERROR\u001b[0m: failed to create cluster: node(s) already exist for a cluster with the name \"kind\"\n"
     ]
    }
   ],
   "source": [
    "!kind create cluster\n"
   ]
  },
  {
   "cell_type": "code",
   "execution_count": 12,
   "metadata": {},
   "outputs": [
    {
     "name": "stdout",
     "output_type": "stream",
     "text": [
      "\u001b[0;32mKubernetes control plane\u001b[0m is running at \u001b[0;33mhttps://127.0.0.1:54025\u001b[0m\n",
      "\u001b[0;32mCoreDNS\u001b[0m is running at \u001b[0;33mhttps://127.0.0.1:54025/api/v1/namespaces/kube-system/services/kube-dns:dns/proxy\u001b[0m\n",
      "\n",
      "To further debug and diagnose cluster problems, use 'kubectl cluster-info dump'.\n"
     ]
    }
   ],
   "source": [
    "!kubectl cluster-info\n"
   ]
  },
  {
   "cell_type": "markdown",
   "metadata": {},
   "source": [
    "## Question 3\n",
    "\n",
    "Now let's test if everything works. Use `kubectl` to get the list of running services. \n",
    "\n",
    "What's `CLUSTER-IP` of the service that is already running there? \n"
   ]
  },
  {
   "cell_type": "code",
   "execution_count": 13,
   "metadata": {},
   "outputs": [
    {
     "name": "stdout",
     "output_type": "stream",
     "text": [
      "NAME                        TYPE           CLUSTER-IP      EXTERNAL-IP   PORT(S)        AGE\n",
      "kubernetes                  ClusterIP      10.96.0.1       <none>        443/TCP        39h\n",
      "ping                        LoadBalancer   10.96.231.209   <pending>     80:31376/TCP   23h\n",
      "tf-serving-clothing-model   ClusterIP      10.96.114.206   <none>        8500/TCP       9h\n"
     ]
    }
   ],
   "source": [
    "!kubectl get svc"
   ]
  },
  {
   "cell_type": "markdown",
   "metadata": {},
   "source": [
    "## Question 4\n",
    "\n",
    "To be able to use the docker image we previously created (`zoomcamp-model:hw10`),\n",
    "we need to register it with `kind`.\n",
    "\n",
    "What's the command we need to run for that?\n",
    "\n",
    "* `kind create cluster`\n",
    "* `kind build node-image`\n",
    "* `kind load docker-image`\n",
    "* `kubectl apply`"
   ]
  },
  {
   "cell_type": "code",
   "execution_count": 7,
   "metadata": {},
   "outputs": [
    {
     "name": "stdout",
     "output_type": "stream",
     "text": [
      "Image: \"svizor/zoomcamp-model:hw10\" with ID \"sha256:4600f5340b97a817df089964f63c53b23d72ef9b7df7cf2efade74da536d85c7\" not yet present on node \"kind-control-plane\", loading...\n"
     ]
    }
   ],
   "source": [
    "!kind load docker-image svizor/zoomcamp-model:hw10"
   ]
  },
  {
   "cell_type": "markdown",
   "metadata": {},
   "source": [
    "## Question 5\n",
    "\n",
    "Now let's create a deployment config (e.g. `deployment.yaml`):\n",
    "\n",
    "```yaml\n",
    "apiVersion: apps/v1\n",
    "kind: Deployment\n",
    "metadata:\n",
    "  name: credit\n",
    "spec:\n",
    "  selector:\n",
    "    matchLabels:\n",
    "      app: credit\n",
    "  replicas: 1\n",
    "  template:\n",
    "    metadata:\n",
    "      labels:\n",
    "        app: credit\n",
    "    spec:\n",
    "      containers:\n",
    "      - name: credit\n",
    "        image: <Image>\n",
    "        resources:\n",
    "          requests:\n",
    "            memory: \"64Mi\"\n",
    "            cpu: \"100m\"            \n",
    "          limits:\n",
    "            memory: <Memory>\n",
    "            cpu: <CPU>\n",
    "        ports:\n",
    "        - containerPort: <Port>\n",
    "```\n",
    "\n",
    "Replace `<Image>`, `<Memory>`, `<CPU>`, `<Port>` with the correct values.\n",
    "\n",
    "What is the value for `<Port>`?\n",
    "\n",
    "Apply this deployment using the appropriate command and get a list of running Pods. \n",
    "You can see one running Pod.\n",
    "\n"
   ]
  },
  {
   "cell_type": "code",
   "execution_count": 8,
   "metadata": {},
   "outputs": [
    {
     "name": "stdout",
     "output_type": "stream",
     "text": [
      "deployment.apps/credit created\n"
     ]
    }
   ],
   "source": [
    "!kubectl apply -f deployment.yaml"
   ]
  },
  {
   "cell_type": "code",
   "execution_count": 14,
   "metadata": {},
   "outputs": [
    {
     "name": "stdout",
     "output_type": "stream",
     "text": [
      "NAME                                        READY   STATUS    RESTARTS   AGE\n",
      "credit-59b7954d7f-fgw59                     1/1     Running   0          29m\n",
      "ping-deployment-86946bb9f4-bmhcm            1/1     Running   0          10h\n",
      "tf-serving-clothing-model-7b64f8b64-pgv5j   1/1     Running   0          9h\n"
     ]
    }
   ],
   "source": [
    "!kubectl get po"
   ]
  },
  {
   "cell_type": "markdown",
   "metadata": {},
   "source": [
    "## Question 6\n",
    "\n",
    "Let's create a service for this deployment (`service.yaml`):\n",
    "\n",
    "```yaml\n",
    "apiVersion: v1\n",
    "kind: Service\n",
    "metadata:\n",
    "  name: <Service name>\n",
    "spec:\n",
    "  type: LoadBalancer\n",
    "  selector:\n",
    "    app: <???>\n",
    "  ports:\n",
    "  - port: 80\n",
    "    targetPort: <PORT>\n",
    "```\n",
    "\n",
    "Fill it in. What do we need to write instead of `<???>`?\n",
    "\n",
    "Apply this config file."
   ]
  },
  {
   "cell_type": "code",
   "execution_count": 15,
   "metadata": {},
   "outputs": [
    {
     "name": "stdout",
     "output_type": "stream",
     "text": [
      "service/credit created\n"
     ]
    }
   ],
   "source": [
    "!kubectl apply -f service.yaml"
   ]
  },
  {
   "cell_type": "code",
   "execution_count": 18,
   "metadata": {},
   "outputs": [
    {
     "name": "stdout",
     "output_type": "stream",
     "text": [
      "NAME                        TYPE           CLUSTER-IP      EXTERNAL-IP   PORT(S)        AGE\n",
      "credit                      LoadBalancer   10.96.214.234   <pending>     80:30104/TCP   2m13s\n",
      "kubernetes                  ClusterIP      10.96.0.1       <none>        443/TCP        39h\n",
      "ping                        LoadBalancer   10.96.231.209   <pending>     80:31376/TCP   23h\n",
      "tf-serving-clothing-model   ClusterIP      10.96.114.206   <none>        8500/TCP       9h\n"
     ]
    }
   ],
   "source": [
    "!kubectl get svc"
   ]
  },
  {
   "cell_type": "markdown",
   "metadata": {},
   "source": [
    "## Testing the service\n",
    "\n",
    "We can test our service locally by forwarding the port 9696 on our computer \n",
    "to the port 80 on the service:\n",
    "\n",
    "```bash\n",
    "kubectl port-forward service/<Service name> 9696:80\n",
    "```\n",
    "\n",
    "Run `q6_test.py` (from the homework 5) once again to verify that everything is working. \n",
    "You should get the same result as in Question 1.\n",
    "\n"
   ]
  },
  {
   "cell_type": "code",
   "execution_count": 35,
   "metadata": {},
   "outputs": [
    {
     "name": "stdout",
     "output_type": "stream",
     "text": [
      "Forwarding from 127.0.0.1:9696 -> 9696\n",
      "Forwarding from [::1]:9696 -> 9696\n"
     ]
    }
   ],
   "source": [
    "import subprocess\n",
    "import time\n",
    "\n",
    "# Run the command in the background\n",
    "command = \"kubectl port-forward service/credit 9696:80\"\n",
    "process = subprocess.Popen(command, shell=True)"
   ]
  },
  {
   "cell_type": "code",
   "execution_count": 38,
   "metadata": {},
   "outputs": [
    {
     "name": "stdout",
     "output_type": "stream",
     "text": [
      "Handling connection for 9696\n",
      "{'get_credit': True, 'get_credit_probability': 0.726936946355423}\n"
     ]
    }
   ],
   "source": [
    "!python q6_test.py"
   ]
  },
  {
   "cell_type": "code",
   "execution_count": 40,
   "metadata": {},
   "outputs": [],
   "source": [
    "process.terminate()"
   ]
  },
  {
   "cell_type": "markdown",
   "metadata": {},
   "source": [
    "\n",
    "## Autoscaling\n",
    "\n",
    "Now we're going to use a [HorizontalPodAutoscaler](https://kubernetes.io/docs/tasks/run-application/horizontal-pod-autoscale-walkthrough/) \n",
    "(HPA for short) that automatically updates a workload resource (such as our deployment), \n",
    "with the aim of automatically scaling the workload to match demand.\n",
    "\n",
    "Use the following command to create the HPA:\n",
    "\n",
    "```bash\n",
    "kubectl autoscale deployment credit --name credit-hpa --cpu-percent=20 --min=1 --max=3\n",
    "```\n"
   ]
  },
  {
   "cell_type": "code",
   "execution_count": 30,
   "metadata": {},
   "outputs": [
    {
     "name": "stdout",
     "output_type": "stream",
     "text": [
      "serviceaccount/metrics-server created\n",
      "clusterrole.rbac.authorization.k8s.io/system:aggregated-metrics-reader created\n",
      "clusterrole.rbac.authorization.k8s.io/system:metrics-server created\n",
      "rolebinding.rbac.authorization.k8s.io/metrics-server-auth-reader created\n",
      "clusterrolebinding.rbac.authorization.k8s.io/metrics-server:system:auth-delegator created\n",
      "clusterrolebinding.rbac.authorization.k8s.io/system:metrics-server created\n",
      "service/metrics-server created\n",
      "deployment.apps/metrics-server created\n",
      "apiservice.apiregistration.k8s.io/v1beta1.metrics.k8s.io created\n"
     ]
    }
   ],
   "source": [
    "!kubectl apply -f https://github.com/kubernetes-sigs/metrics-server/releases/latest/download/components.yaml"
   ]
  },
  {
   "cell_type": "code",
   "execution_count": 41,
   "metadata": {},
   "outputs": [
    {
     "name": "stdout",
     "output_type": "stream",
     "text": [
      "horizontalpodautoscaler.autoscaling/credit-hpa autoscaled\n"
     ]
    }
   ],
   "source": [
    "!kubectl autoscale deployment credit --name credit-hpa --cpu-percent=20 --min=1 --max=3"
   ]
  },
  {
   "cell_type": "markdown",
   "metadata": {},
   "source": [
    "\n",
    "You can check the current status of the new HPA by running:\n",
    "\n",
    "```bash\n",
    "kubectl get hpa\n",
    "```\n"
   ]
  },
  {
   "cell_type": "code",
   "execution_count": 42,
   "metadata": {},
   "outputs": [
    {
     "name": "stdout",
     "output_type": "stream",
     "text": [
      "NAME         REFERENCE           TARGETS         MINPODS   MAXPODS   REPLICAS   AGE\n",
      "credit-hpa   Deployment/credit   <unknown>/20%   1         3         1          15s\n"
     ]
    }
   ],
   "source": [
    "!kubectl get hpa"
   ]
  },
  {
   "cell_type": "markdown",
   "metadata": {},
   "source": [
    "\n",
    "The output should be similar to the next:\n",
    "\n",
    "```bash\n",
    "NAME              REFERENCE                TARGETS   MINPODS   MAXPODS   REPLICAS   AGE\n",
    "credit-hpa   Deployment/credit   1%/20%    1         3         1          27s\n",
    "```\n",
    "\n",
    "`TARGET` column shows the average CPU consumption across all the Pods controlled by the corresponding deployment.\n",
    "Current CPU consumption is about 0% as there are no clients sending requests to the server.\n",
    "> \n",
    ">Note: In case the HPA instance doesn't run properly, try to install the latest Metrics Server release \n",
    "> from the `components.yaml` manifest:\n",
    "> ```bash\n",
    "> kubectl apply -f https://github.com/kubernetes-sigs/metrics-server/releases/latest/download/components.yaml\n",
    ">```\n"
   ]
  },
  {
   "cell_type": "markdown",
   "metadata": {},
   "source": [
    "\n",
    "\n",
    "## Increase the load\n",
    "\n",
    "Let's see how the autoscaler reacts to increasing the load. To do this, we can slightly modify the existing\n",
    "`q6_test.py` script by putting the operator that sends the request to the credit service into a loop.\n",
    "\n",
    "```python\n",
    "while True:\n",
    "    sleep(0.1)\n",
    "    response = requests.post(url, json=client).json()\n",
    "    print(response)\n",
    "```\n",
    "\n",
    "Now you can run this script."
   ]
  },
  {
   "cell_type": "code",
   "execution_count": null,
   "metadata": {},
   "outputs": [
    {
     "name": "stdout",
     "output_type": "stream",
     "text": [
      "Forwarding from 127.0.0.1:9696 -> 9696\n",
      "Forwarding from [::1]:9696 -> 9696\n"
     ]
    }
   ],
   "source": [
    "import subprocess\n",
    "import time\n",
    "\n",
    "# Run the command in the background\n",
    "command = \"kubectl port-forward service/credit 9696:80\"\n",
    "process = subprocess.Popen(command, shell=True)"
   ]
  },
  {
   "cell_type": "code",
   "execution_count": 37,
   "metadata": {},
   "outputs": [
    {
     "name": "stdout",
     "output_type": "stream",
     "text": [
      "Handling connection for 9696\n",
      "{'get_credit': True, 'get_credit_probability': 0.726936946355423}\n",
      "Handling connection for 9696\n",
      "{'get_credit': True, 'get_credit_probability': 0.726936946355423}\n",
      "Handling connection for 9696\n",
      "{'get_credit': True, 'get_credit_probability': 0.726936946355423}\n",
      "Handling connection for 9696\n",
      "{'get_credit': True, 'get_credit_probability': 0.726936946355423}\n",
      "Handling connection for 9696\n",
      "{'get_credit': True, 'get_credit_probability': 0.726936946355423}\n",
      "Handling connection for 9696\n",
      "{'get_credit': True, 'get_credit_probability': 0.726936946355423}\n",
      "Handling connection for 9696\n",
      "{'get_credit': True, 'get_credit_probability': 0.726936946355423}\n",
      "Handling connection for 9696\n",
      "{'get_credit': True, 'get_credit_probability': 0.726936946355423}\n",
      "Handling connection for 9696\n",
      "{'get_credit': True, 'get_credit_probability': 0.726936946355423}\n",
      "Handling connection for 9696\n",
      "{'get_credit': True, 'get_credit_probability': 0.726936946355423}\n",
      "Handling connection for 9696\n",
      "{'get_credit': True, 'get_credit_probability': 0.726936946355423}\n",
      "Handling connection for 9696\n",
      "{'get_credit': True, 'get_credit_probability': 0.726936946355423}\n",
      "Handling connection for 9696\n",
      "{'get_credit': True, 'get_credit_probability': 0.726936946355423}\n",
      "Handling connection for 9696\n",
      "{'get_credit': True, 'get_credit_probability': 0.726936946355423}\n",
      "Handling connection for 9696\n",
      "{'get_credit': True, 'get_credit_probability': 0.726936946355423}\n",
      "Handling connection for 9696\n",
      "{'get_credit': True, 'get_credit_probability': 0.726936946355423}\n",
      "Handling connection for 9696\n",
      "{'get_credit': True, 'get_credit_probability': 0.726936946355423}\n",
      "Handling connection for 9696\n",
      "{'get_credit': True, 'get_credit_probability': 0.726936946355423}\n",
      "Handling connection for 9696\n",
      "{'get_credit': True, 'get_credit_probability': 0.726936946355423}\n",
      "Handling connection for 9696\n",
      "{'get_credit': True, 'get_credit_probability': 0.726936946355423}\n",
      "Handling connection for 9696\n",
      "{'get_credit': True, 'get_credit_probability': 0.726936946355423}\n",
      "Handling connection for 9696\n",
      "{'get_credit': True, 'get_credit_probability': 0.726936946355423}\n",
      "Handling connection for 9696\n",
      "{'get_credit': True, 'get_credit_probability': 0.726936946355423}\n",
      "Handling connection for 9696\n",
      "{'get_credit': True, 'get_credit_probability': 0.726936946355423}\n",
      "Handling connection for 9696\n",
      "{'get_credit': True, 'get_credit_probability': 0.726936946355423}\n",
      "Handling connection for 9696\n",
      "{'get_credit': True, 'get_credit_probability': 0.726936946355423}\n",
      "Handling connection for 9696\n",
      "{'get_credit': True, 'get_credit_probability': 0.726936946355423}\n",
      "Handling connection for 9696\n",
      "{'get_credit': True, 'get_credit_probability': 0.726936946355423}\n",
      "Handling connection for 9696\n",
      "{'get_credit': True, 'get_credit_probability': 0.726936946355423}\n",
      "Handling connection for 9696\n",
      "{'get_credit': True, 'get_credit_probability': 0.726936946355423}\n",
      "Handling connection for 9696\n",
      "{'get_credit': True, 'get_credit_probability': 0.726936946355423}\n",
      "Handling connection for 9696\n",
      "{'get_credit': True, 'get_credit_probability': 0.726936946355423}\n",
      "Handling connection for 9696\n",
      "{'get_credit': True, 'get_credit_probability': 0.726936946355423}\n",
      "Handling connection for 9696\n",
      "{'get_credit': True, 'get_credit_probability': 0.726936946355423}\n",
      "Handling connection for 9696\n",
      "{'get_credit': True, 'get_credit_probability': 0.726936946355423}\n",
      "Handling connection for 9696\n",
      "{'get_credit': True, 'get_credit_probability': 0.726936946355423}\n",
      "Handling connection for 9696\n",
      "{'get_credit': True, 'get_credit_probability': 0.726936946355423}\n",
      "Handling connection for 9696\n",
      "{'get_credit': True, 'get_credit_probability': 0.726936946355423}\n",
      "Handling connection for 9696\n",
      "{'get_credit': True, 'get_credit_probability': 0.726936946355423}\n",
      "Handling connection for 9696\n",
      "{'get_credit': True, 'get_credit_probability': 0.726936946355423}\n",
      "Handling connection for 9696\n",
      "{'get_credit': True, 'get_credit_probability': 0.726936946355423}\n",
      "Handling connection for 9696\n",
      "{'get_credit': True, 'get_credit_probability': 0.726936946355423}\n",
      "Handling connection for 9696\n",
      "{'get_credit': True, 'get_credit_probability': 0.726936946355423}\n",
      "Handling connection for 9696\n",
      "{'get_credit': True, 'get_credit_probability': 0.726936946355423}\n",
      "Handling connection for 9696\n",
      "{'get_credit': True, 'get_credit_probability': 0.726936946355423}\n",
      "Handling connection for 9696\n",
      "{'get_credit': True, 'get_credit_probability': 0.726936946355423}\n",
      "Handling connection for 9696\n",
      "{'get_credit': True, 'get_credit_probability': 0.726936946355423}\n",
      "Handling connection for 9696\n",
      "{'get_credit': True, 'get_credit_probability': 0.726936946355423}\n",
      "Handling connection for 9696\n",
      "{'get_credit': True, 'get_credit_probability': 0.726936946355423}\n",
      "Handling connection for 9696\n",
      "{'get_credit': True, 'get_credit_probability': 0.726936946355423}\n",
      "Handling connection for 9696\n",
      "{'get_credit': True, 'get_credit_probability': 0.726936946355423}\n",
      "Handling connection for 9696\n",
      "{'get_credit': True, 'get_credit_probability': 0.726936946355423}\n",
      "Handling connection for 9696\n",
      "{'get_credit': True, 'get_credit_probability': 0.726936946355423}\n",
      "Handling connection for 9696\n",
      "{'get_credit': True, 'get_credit_probability': 0.726936946355423}\n",
      "Handling connection for 9696\n",
      "{'get_credit': True, 'get_credit_probability': 0.726936946355423}\n",
      "Handling connection for 9696\n",
      "{'get_credit': True, 'get_credit_probability': 0.726936946355423}\n",
      "Handling connection for 9696\n",
      "{'get_credit': True, 'get_credit_probability': 0.726936946355423}\n",
      "Handling connection for 9696\n",
      "{'get_credit': True, 'get_credit_probability': 0.726936946355423}\n",
      "Handling connection for 9696\n",
      "{'get_credit': True, 'get_credit_probability': 0.726936946355423}\n",
      "Handling connection for 9696\n",
      "{'get_credit': True, 'get_credit_probability': 0.726936946355423}\n",
      "Handling connection for 9696\n",
      "{'get_credit': True, 'get_credit_probability': 0.726936946355423}\n",
      "Handling connection for 9696\n",
      "{'get_credit': True, 'get_credit_probability': 0.726936946355423}\n",
      "Handling connection for 9696\n",
      "{'get_credit': True, 'get_credit_probability': 0.726936946355423}\n",
      "Handling connection for 9696\n",
      "{'get_credit': True, 'get_credit_probability': 0.726936946355423}\n",
      "Handling connection for 9696\n",
      "{'get_credit': True, 'get_credit_probability': 0.726936946355423}\n",
      "Handling connection for 9696\n",
      "{'get_credit': True, 'get_credit_probability': 0.726936946355423}\n",
      "Handling connection for 9696\n",
      "{'get_credit': True, 'get_credit_probability': 0.726936946355423}\n",
      "Handling connection for 9696\n",
      "{'get_credit': True, 'get_credit_probability': 0.726936946355423}\n",
      "Handling connection for 9696\n",
      "{'get_credit': True, 'get_credit_probability': 0.726936946355423}\n",
      "Handling connection for 9696\n",
      "{'get_credit': True, 'get_credit_probability': 0.726936946355423}\n",
      "Handling connection for 9696\n",
      "{'get_credit': True, 'get_credit_probability': 0.726936946355423}\n",
      "Handling connection for 9696\n",
      "{'get_credit': True, 'get_credit_probability': 0.726936946355423}\n",
      "Handling connection for 9696\n",
      "{'get_credit': True, 'get_credit_probability': 0.726936946355423}\n",
      "Handling connection for 9696\n",
      "{'get_credit': True, 'get_credit_probability': 0.726936946355423}\n",
      "Handling connection for 9696\n",
      "{'get_credit': True, 'get_credit_probability': 0.726936946355423}\n",
      "Handling connection for 9696\n",
      "{'get_credit': True, 'get_credit_probability': 0.726936946355423}\n",
      "Handling connection for 9696\n",
      "{'get_credit': True, 'get_credit_probability': 0.726936946355423}\n",
      "Handling connection for 9696\n",
      "{'get_credit': True, 'get_credit_probability': 0.726936946355423}\n",
      "Handling connection for 9696\n",
      "{'get_credit': True, 'get_credit_probability': 0.726936946355423}\n",
      "Handling connection for 9696\n",
      "{'get_credit': True, 'get_credit_probability': 0.726936946355423}\n",
      "Handling connection for 9696\n",
      "{'get_credit': True, 'get_credit_probability': 0.726936946355423}\n",
      "Handling connection for 9696\n",
      "{'get_credit': True, 'get_credit_probability': 0.726936946355423}\n",
      "Handling connection for 9696\n",
      "{'get_credit': True, 'get_credit_probability': 0.726936946355423}\n",
      "Handling connection for 9696\n",
      "{'get_credit': True, 'get_credit_probability': 0.726936946355423}\n",
      "Handling connection for 9696\n",
      "{'get_credit': True, 'get_credit_probability': 0.726936946355423}\n",
      "Handling connection for 9696\n",
      "{'get_credit': True, 'get_credit_probability': 0.726936946355423}\n",
      "Handling connection for 9696\n",
      "{'get_credit': True, 'get_credit_probability': 0.726936946355423}\n",
      "Handling connection for 9696\n",
      "{'get_credit': True, 'get_credit_probability': 0.726936946355423}\n",
      "Handling connection for 9696\n",
      "{'get_credit': True, 'get_credit_probability': 0.726936946355423}\n",
      "Handling connection for 9696\n",
      "{'get_credit': True, 'get_credit_probability': 0.726936946355423}\n",
      "Handling connection for 9696\n",
      "{'get_credit': True, 'get_credit_probability': 0.726936946355423}\n",
      "Handling connection for 9696\n",
      "{'get_credit': True, 'get_credit_probability': 0.726936946355423}\n",
      "Handling connection for 9696\n",
      "{'get_credit': True, 'get_credit_probability': 0.726936946355423}\n",
      "Handling connection for 9696\n",
      "{'get_credit': True, 'get_credit_probability': 0.726936946355423}\n",
      "Handling connection for 9696\n",
      "{'get_credit': True, 'get_credit_probability': 0.726936946355423}\n",
      "Handling connection for 9696\n",
      "{'get_credit': True, 'get_credit_probability': 0.726936946355423}\n",
      "Handling connection for 9696\n",
      "{'get_credit': True, 'get_credit_probability': 0.726936946355423}\n",
      "Handling connection for 9696\n",
      "{'get_credit': True, 'get_credit_probability': 0.726936946355423}\n",
      "Handling connection for 9696\n",
      "{'get_credit': True, 'get_credit_probability': 0.726936946355423}\n",
      "Handling connection for 9696\n",
      "{'get_credit': True, 'get_credit_probability': 0.726936946355423}\n",
      "Handling connection for 9696\n",
      "{'get_credit': True, 'get_credit_probability': 0.726936946355423}\n",
      "Handling connection for 9696\n",
      "{'get_credit': True, 'get_credit_probability': 0.726936946355423}\n",
      "Handling connection for 9696\n",
      "{'get_credit': True, 'get_credit_probability': 0.726936946355423}\n",
      "Handling connection for 9696\n",
      "{'get_credit': True, 'get_credit_probability': 0.726936946355423}\n",
      "Handling connection for 9696\n",
      "{'get_credit': True, 'get_credit_probability': 0.726936946355423}\n",
      "Handling connection for 9696\n",
      "{'get_credit': True, 'get_credit_probability': 0.726936946355423}\n",
      "Handling connection for 9696\n",
      "{'get_credit': True, 'get_credit_probability': 0.726936946355423}\n",
      "Handling connection for 9696\n",
      "{'get_credit': True, 'get_credit_probability': 0.726936946355423}\n",
      "Handling connection for 9696\n",
      "{'get_credit': True, 'get_credit_probability': 0.726936946355423}\n",
      "Handling connection for 9696\n",
      "{'get_credit': True, 'get_credit_probability': 0.726936946355423}\n",
      "Handling connection for 9696\n",
      "{'get_credit': True, 'get_credit_probability': 0.726936946355423}\n",
      "Handling connection for 9696\n",
      "{'get_credit': True, 'get_credit_probability': 0.726936946355423}\n",
      "Handling connection for 9696\n",
      "{'get_credit': True, 'get_credit_probability': 0.726936946355423}\n",
      "Handling connection for 9696\n",
      "{'get_credit': True, 'get_credit_probability': 0.726936946355423}\n",
      "Handling connection for 9696\n",
      "{'get_credit': True, 'get_credit_probability': 0.726936946355423}\n",
      "Handling connection for 9696\n",
      "{'get_credit': True, 'get_credit_probability': 0.726936946355423}\n",
      "Handling connection for 9696\n",
      "{'get_credit': True, 'get_credit_probability': 0.726936946355423}\n",
      "Handling connection for 9696\n",
      "{'get_credit': True, 'get_credit_probability': 0.726936946355423}\n",
      "Handling connection for 9696\n",
      "{'get_credit': True, 'get_credit_probability': 0.726936946355423}\n",
      "Handling connection for 9696\n",
      "{'get_credit': True, 'get_credit_probability': 0.726936946355423}\n",
      "Handling connection for 9696\n",
      "{'get_credit': True, 'get_credit_probability': 0.726936946355423}\n",
      "Handling connection for 9696\n",
      "{'get_credit': True, 'get_credit_probability': 0.726936946355423}\n",
      "Handling connection for 9696\n",
      "{'get_credit': True, 'get_credit_probability': 0.726936946355423}\n",
      "Handling connection for 9696\n",
      "{'get_credit': True, 'get_credit_probability': 0.726936946355423}\n",
      "Handling connection for 9696\n",
      "{'get_credit': True, 'get_credit_probability': 0.726936946355423}\n",
      "Handling connection for 9696\n",
      "{'get_credit': True, 'get_credit_probability': 0.726936946355423}\n",
      "Handling connection for 9696\n",
      "{'get_credit': True, 'get_credit_probability': 0.726936946355423}\n",
      "Handling connection for 9696\n",
      "{'get_credit': True, 'get_credit_probability': 0.726936946355423}\n",
      "Handling connection for 9696\n",
      "{'get_credit': True, 'get_credit_probability': 0.726936946355423}\n",
      "Handling connection for 9696\n",
      "{'get_credit': True, 'get_credit_probability': 0.726936946355423}\n",
      "Handling connection for 9696\n",
      "{'get_credit': True, 'get_credit_probability': 0.726936946355423}\n",
      "Handling connection for 9696\n",
      "{'get_credit': True, 'get_credit_probability': 0.726936946355423}\n",
      "Handling connection for 9696\n",
      "{'get_credit': True, 'get_credit_probability': 0.726936946355423}\n",
      "Handling connection for 9696\n",
      "{'get_credit': True, 'get_credit_probability': 0.726936946355423}\n",
      "Handling connection for 9696\n",
      "{'get_credit': True, 'get_credit_probability': 0.726936946355423}\n",
      "Handling connection for 9696\n",
      "{'get_credit': True, 'get_credit_probability': 0.726936946355423}\n",
      "Handling connection for 9696\n",
      "{'get_credit': True, 'get_credit_probability': 0.726936946355423}\n",
      "Handling connection for 9696\n",
      "{'get_credit': True, 'get_credit_probability': 0.726936946355423}\n",
      "Handling connection for 9696\n",
      "{'get_credit': True, 'get_credit_probability': 0.726936946355423}\n",
      "Handling connection for 9696\n",
      "{'get_credit': True, 'get_credit_probability': 0.726936946355423}\n",
      "Handling connection for 9696\n",
      "{'get_credit': True, 'get_credit_probability': 0.726936946355423}\n",
      "Handling connection for 9696\n",
      "{'get_credit': True, 'get_credit_probability': 0.726936946355423}\n",
      "Handling connection for 9696\n",
      "{'get_credit': True, 'get_credit_probability': 0.726936946355423}\n",
      "Handling connection for 9696\n",
      "{'get_credit': True, 'get_credit_probability': 0.726936946355423}\n",
      "Handling connection for 9696\n",
      "{'get_credit': True, 'get_credit_probability': 0.726936946355423}\n",
      "Handling connection for 9696\n",
      "{'get_credit': True, 'get_credit_probability': 0.726936946355423}\n",
      "Handling connection for 9696\n",
      "{'get_credit': True, 'get_credit_probability': 0.726936946355423}\n",
      "Handling connection for 9696\n",
      "{'get_credit': True, 'get_credit_probability': 0.726936946355423}\n",
      "Handling connection for 9696\n",
      "{'get_credit': True, 'get_credit_probability': 0.726936946355423}\n",
      "Handling connection for 9696\n",
      "{'get_credit': True, 'get_credit_probability': 0.726936946355423}\n",
      "Handling connection for 9696\n",
      "{'get_credit': True, 'get_credit_probability': 0.726936946355423}\n",
      "Handling connection for 9696\n",
      "{'get_credit': True, 'get_credit_probability': 0.726936946355423}\n",
      "Handling connection for 9696\n",
      "{'get_credit': True, 'get_credit_probability': 0.726936946355423}\n",
      "Handling connection for 9696\n",
      "{'get_credit': True, 'get_credit_probability': 0.726936946355423}\n",
      "Handling connection for 9696\n",
      "{'get_credit': True, 'get_credit_probability': 0.726936946355423}\n",
      "Handling connection for 9696\n",
      "^C\n",
      "Traceback (most recent call last):\n",
      "  File \"/Users/alexlitvinov/Documents/projects/machine-learning-zoomcamp-alex/10-k8s-hw/q6_test_load.py\", line 9, in <module>\n",
      "    time.sleep(0.1)\n",
      "KeyboardInterrupt\n"
     ]
    }
   ],
   "source": [
    "!python q6_test_load.py"
   ]
  },
  {
   "cell_type": "markdown",
   "metadata": {},
   "source": [
    "## Question 7 (optional)\n",
    "\n",
    "Run `kubectl get hpa credit-hpa --watch` command to monitor how the autoscaler performs. \n",
    "Within a minute or so, you should see the higher CPU load; and then - more replicas. \n",
    "What was the maximum amount of the replicas during this test?\n",
    "\n",
    "\n",
    "* 1\n",
    "* 2\n",
    "* 3\n",
    "* 4\n",
    "\n",
    "> Note: It may take a few minutes to stabilize the number of replicas. Since the amount of load is not controlled \n",
    "> in any way it may happen that the final number of replicas will differ from initial."
   ]
  }
 ],
 "metadata": {
  "kernelspec": {
   "display_name": "machine-learning-zoomcamp",
   "language": "python",
   "name": "python3"
  },
  "language_info": {
   "codemirror_mode": {
    "name": "ipython",
    "version": 3
   },
   "file_extension": ".py",
   "mimetype": "text/x-python",
   "name": "python",
   "nbconvert_exporter": "python",
   "pygments_lexer": "ipython3",
   "version": "3.10.13"
  }
 },
 "nbformat": 4,
 "nbformat_minor": 2
}
