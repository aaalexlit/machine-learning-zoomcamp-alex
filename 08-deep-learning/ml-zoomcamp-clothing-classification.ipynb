{
 "cells": [
  {
   "cell_type": "code",
   "execution_count": 3,
   "id": "fe4ae1d1",
   "metadata": {
    "execution": {
     "iopub.execute_input": "2023-11-17T05:50:47.956322Z",
     "iopub.status.busy": "2023-11-17T05:50:47.955842Z",
     "iopub.status.idle": "2023-11-17T05:50:47.960835Z",
     "shell.execute_reply": "2023-11-17T05:50:47.959953Z",
     "shell.execute_reply.started": "2023-11-17T05:50:47.956284Z"
    },
    "tags": []
   },
   "outputs": [],
   "source": [
    "import tensorflow as tf\n",
    "import numpy as np\n",
    "from tensorflow import keras"
   ]
  },
  {
   "cell_type": "code",
   "execution_count": 2,
   "id": "bda9369a",
   "metadata": {
    "execution": {
     "iopub.execute_input": "2023-11-17T05:50:36.803669Z",
     "iopub.status.busy": "2023-11-17T05:50:36.803133Z",
     "iopub.status.idle": "2023-11-17T05:50:36.813599Z",
     "shell.execute_reply": "2023-11-17T05:50:36.812713Z",
     "shell.execute_reply.started": "2023-11-17T05:50:36.803643Z"
    }
   },
   "outputs": [
    {
     "data": {
      "text/plain": [
       "'2.9.1'"
      ]
     },
     "execution_count": 2,
     "metadata": {},
     "output_type": "execute_result"
    }
   ],
   "source": [
    "tf.__version__"
   ]
  },
  {
   "cell_type": "markdown",
   "id": "1043b927",
   "metadata": {},
   "source": [
    "# Load images\n",
    "\n",
    "## To clone the repo with images\n",
    "\n",
    "Run:\n",
    "```shell\n",
    "git clone git@github.com:alexeygrigorev/clothing-dataset-small.git\n",
    "```"
   ]
  },
  {
   "cell_type": "code",
   "execution_count": 7,
   "id": "2e8ad42d",
   "metadata": {},
   "outputs": [],
   "source": [
    "from tensorflow.keras.preprocessing.image import load_img"
   ]
  },
  {
   "cell_type": "code",
   "execution_count": 29,
   "id": "7479786b",
   "metadata": {},
   "outputs": [
    {
     "name": "stdout",
     "output_type": "stream",
     "text": [
      "00003aeb-ace5-43bf-9a0c-dc31a03e9cd2.jpg\n",
      "00805d0e-7fe5-4251-b577-86065e4f6587.jpg\n",
      "00d9cc6e-2564-4813-9d68-4bc4d562107b.jpg\n",
      "0144d8a2-0d3b-4bee-b137-324129e746a8.jpg\n",
      "01ace8a7-7621-478e-af83-cd4fac4cb157.jpg\n",
      "01d1fed7-996d-496b-b3ae-73ab724f29cc.jpg\n",
      "0285f2a0-ff21-43de-9762-6454faa5eef8.jpg\n",
      "02ef828a-a7d5-4475-bf44-3907b3a977ff.jpg\n",
      "03103065-f445-44a5-b707-53b73534f57d.jpg\n",
      "0373fc11-3fca-4b92-8ae5-e208d53135a0.jpg\n",
      "ls: write error: Broken pipe\n"
     ]
    }
   ],
   "source": [
    "ls clothing-dataset-small/train/t-shirt | head"
   ]
  },
  {
   "cell_type": "code",
   "execution_count": 31,
   "id": "52b206fb",
   "metadata": {},
   "outputs": [],
   "source": [
    "path = 'clothing-dataset-small/train/t-shirt'\n",
    "name = 'f8c5b758-d78e-4182-8246-5bf94e0442d6.jpg'\n",
    "fullname = f'{path}/{name}'\n",
    "\n",
    "img = load_img(fullname, target_size=(299, 299))"
   ]
  },
  {
   "cell_type": "code",
   "execution_count": 32,
   "id": "931d5ff6",
   "metadata": {},
   "outputs": [
    {
     "name": "stdout",
     "output_type": "stream",
     "text": [
      "<PIL.Image.Image image mode=RGB size=299x299 at 0x7FBE093B8460>\n"
     ]
    }
   ],
   "source": [
    "print(img)"
   ]
  },
  {
   "cell_type": "code",
   "execution_count": 33,
   "id": "d9d93c6a",
   "metadata": {},
   "outputs": [
    {
     "data": {
      "text/plain": [
       "(299, 299, 3)"
      ]
     },
     "execution_count": 33,
     "metadata": {},
     "output_type": "execute_result"
    }
   ],
   "source": [
    "img_np_array = np.array(img)\n",
    "img_np_array.shape"
   ]
  },
  {
   "cell_type": "markdown",
   "id": "14653967",
   "metadata": {},
   "source": [
    "# 8.3 Pre-trained CNNs\n",
    "\n",
    "- Pre-trained models: https://keras.io/api/applications/"
   ]
  },
  {
   "cell_type": "code",
   "execution_count": 47,
   "id": "73848626",
   "metadata": {},
   "outputs": [],
   "source": [
    "from tensorflow.keras.applications.xception import Xception\n",
    "from tensorflow.keras.applications.xception import preprocess_input, decode_predictions"
   ]
  },
  {
   "cell_type": "code",
   "execution_count": 34,
   "id": "f501182c",
   "metadata": {},
   "outputs": [
    {
     "name": "stderr",
     "output_type": "stream",
     "text": [
      "2023-11-16 15:50:19.376922: I tensorflow/stream_executor/cuda/cuda_gpu_executor.cc:975] successful NUMA node read from SysFS had negative value (-1), but there must be at least one NUMA node, so returning NUMA node zero\n",
      "2023-11-16 15:50:19.384361: I tensorflow/stream_executor/cuda/cuda_gpu_executor.cc:975] successful NUMA node read from SysFS had negative value (-1), but there must be at least one NUMA node, so returning NUMA node zero\n",
      "2023-11-16 15:50:19.384952: I tensorflow/stream_executor/cuda/cuda_gpu_executor.cc:975] successful NUMA node read from SysFS had negative value (-1), but there must be at least one NUMA node, so returning NUMA node zero\n",
      "2023-11-16 15:50:19.385937: I tensorflow/core/platform/cpu_feature_guard.cc:193] This TensorFlow binary is optimized with oneAPI Deep Neural Network Library (oneDNN) to use the following CPU instructions in performance-critical operations:  AVX2 AVX512F AVX512_VNNI FMA\n",
      "To enable them in other operations, rebuild TensorFlow with the appropriate compiler flags.\n",
      "2023-11-16 15:50:19.386412: I tensorflow/stream_executor/cuda/cuda_gpu_executor.cc:975] successful NUMA node read from SysFS had negative value (-1), but there must be at least one NUMA node, so returning NUMA node zero\n",
      "2023-11-16 15:50:19.387036: I tensorflow/stream_executor/cuda/cuda_gpu_executor.cc:975] successful NUMA node read from SysFS had negative value (-1), but there must be at least one NUMA node, so returning NUMA node zero\n",
      "2023-11-16 15:50:19.387571: I tensorflow/stream_executor/cuda/cuda_gpu_executor.cc:975] successful NUMA node read from SysFS had negative value (-1), but there must be at least one NUMA node, so returning NUMA node zero\n",
      "2023-11-16 15:50:20.042857: I tensorflow/stream_executor/cuda/cuda_gpu_executor.cc:975] successful NUMA node read from SysFS had negative value (-1), but there must be at least one NUMA node, so returning NUMA node zero\n",
      "2023-11-16 15:50:20.044708: I tensorflow/stream_executor/cuda/cuda_gpu_executor.cc:975] successful NUMA node read from SysFS had negative value (-1), but there must be at least one NUMA node, so returning NUMA node zero\n",
      "2023-11-16 15:50:20.045250: I tensorflow/stream_executor/cuda/cuda_gpu_executor.cc:975] successful NUMA node read from SysFS had negative value (-1), but there must be at least one NUMA node, so returning NUMA node zero\n",
      "2023-11-16 15:50:20.045741: I tensorflow/core/common_runtime/gpu/gpu_device.cc:1532] Created device /job:localhost/replica:0/task:0/device:GPU:0 with 13795 MB memory:  -> device: 0, name: Tesla T4, pci bus id: 0000:00:1e.0, compute capability: 7.5\n"
     ]
    },
    {
     "name": "stdout",
     "output_type": "stream",
     "text": [
      "Downloading data from https://storage.googleapis.com/tensorflow/keras-applications/xception/xception_weights_tf_dim_ordering_tf_kernels.h5\n",
      "91884032/91884032 [==============================] - 2s 0us/step\n"
     ]
    }
   ],
   "source": [
    "model = Xception(\n",
    "    weights=\"imagenet\",\n",
    "    input_shape=(299, 299, 3),\n",
    ")"
   ]
  },
  {
   "cell_type": "code",
   "execution_count": 42,
   "id": "42ead32c",
   "metadata": {},
   "outputs": [],
   "source": [
    "X = np.array([img_np_array])\n",
    "X = preprocess_input(X)"
   ]
  },
  {
   "cell_type": "code",
   "execution_count": 43,
   "id": "29f913ef",
   "metadata": {},
   "outputs": [
    {
     "name": "stdout",
     "output_type": "stream",
     "text": [
      "1/1 [==============================] - 1s 623ms/step\n"
     ]
    }
   ],
   "source": [
    "prediction = model.predict(X)"
   ]
  },
  {
   "cell_type": "code",
   "execution_count": 46,
   "id": "253f0265",
   "metadata": {},
   "outputs": [
    {
     "ename": "IndexError",
     "evalue": "index 610 is out of bounds for axis 0 with size 1",
     "output_type": "error",
     "traceback": [
      "\u001b[0;31m---------------------------------------------------------------------------\u001b[0m",
      "\u001b[0;31mIndexError\u001b[0m                                Traceback (most recent call last)",
      "Cell \u001b[0;32mIn [46], line 1\u001b[0m\n\u001b[0;32m----> 1\u001b[0m np\u001b[38;5;241m.\u001b[39margmax(prediction), prediction[np\u001b[38;5;241m.\u001b[39margmax(prediction)]\n",
      "\u001b[0;31mIndexError\u001b[0m: index 610 is out of bounds for axis 0 with size 1"
     ]
    }
   ],
   "source": [
    "np.argmax(prediction), prediction[np.argmax(prediction)]"
   ]
  },
  {
   "cell_type": "code",
   "execution_count": 48,
   "id": "675b95ed",
   "metadata": {},
   "outputs": [
    {
     "name": "stdout",
     "output_type": "stream",
     "text": [
      "Downloading data from https://storage.googleapis.com/download.tensorflow.org/data/imagenet_class_index.json\n",
      "35363/35363 [==============================] - 0s 1us/step\n"
     ]
    },
    {
     "data": {
      "text/plain": [
       "[[('n03595614', 'jersey', 0.86904454),\n",
       "  ('n04370456', 'sweatshirt', 0.028514309),\n",
       "  ('n02730930', 'apron', 0.0058672726),\n",
       "  ('n02916936', 'bulletproof_vest', 0.0053358655),\n",
       "  ('n04599235', 'wool', 0.0038015414)]]"
      ]
     },
     "execution_count": 48,
     "metadata": {},
     "output_type": "execute_result"
    }
   ],
   "source": [
    "decode_predictions(prediction)"
   ]
  },
  {
   "cell_type": "code",
   "execution_count": null,
   "id": "622f40d6",
   "metadata": {},
   "outputs": [],
   "source": []
  }
 ],
 "metadata": {
  "kernelspec": {
   "display_name": "saturn (Python 3)",
   "language": "python",
   "name": "python3"
  },
  "language_info": {
   "codemirror_mode": {
    "name": "ipython",
    "version": 3
   },
   "file_extension": ".py",
   "mimetype": "text/x-python",
   "name": "python",
   "nbconvert_exporter": "python",
   "pygments_lexer": "ipython3",
   "version": "3.9.13"
  },
  "toc-showmarkdowntxt": false
 },
 "nbformat": 4,
 "nbformat_minor": 5
}
