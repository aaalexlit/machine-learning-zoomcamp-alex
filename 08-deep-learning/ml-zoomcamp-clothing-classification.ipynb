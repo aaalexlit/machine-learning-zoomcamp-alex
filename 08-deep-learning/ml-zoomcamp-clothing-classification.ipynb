{
 "cells": [
  {
   "cell_type": "code",
   "execution_count": 2,
   "id": "fe4ae1d1",
   "metadata": {
    "execution": {
     "iopub.execute_input": "2023-11-19T08:38:26.447120Z",
     "iopub.status.busy": "2023-11-19T08:38:26.446738Z",
     "iopub.status.idle": "2023-11-19T08:38:33.857398Z",
     "shell.execute_reply": "2023-11-19T08:38:33.856549Z",
     "shell.execute_reply.started": "2023-11-19T08:38:26.447097Z"
    },
    "tags": []
   },
   "outputs": [
    {
     "name": "stderr",
     "output_type": "stream",
     "text": [
      "2023-11-19 08:38:27.918558: I tensorflow/core/util/util.cc:169] oneDNN custom operations are on. You may see slightly different numerical results due to floating-point round-off errors from different computation orders. To turn them off, set the environment variable `TF_ENABLE_ONEDNN_OPTS=0`.\n"
     ]
    }
   ],
   "source": [
    "import matplotlib.pyplot as plt\n",
    "import numpy as np\n",
    "\n",
    "import tensorflow as tf\n",
    "from tensorflow import keras"
   ]
  },
  {
   "cell_type": "code",
   "execution_count": 3,
   "id": "bda9369a",
   "metadata": {
    "execution": {
     "iopub.execute_input": "2023-11-19T08:38:33.859177Z",
     "iopub.status.busy": "2023-11-19T08:38:33.858544Z",
     "iopub.status.idle": "2023-11-19T08:38:33.868390Z",
     "shell.execute_reply": "2023-11-19T08:38:33.867576Z",
     "shell.execute_reply.started": "2023-11-19T08:38:33.859149Z"
    },
    "tags": []
   },
   "outputs": [
    {
     "data": {
      "text/plain": [
       "'2.9.1'"
      ]
     },
     "execution_count": 3,
     "metadata": {},
     "output_type": "execute_result"
    }
   ],
   "source": [
    "tf.__version__"
   ]
  },
  {
   "cell_type": "markdown",
   "id": "1043b927",
   "metadata": {},
   "source": [
    "# Load images\n",
    "\n",
    "## To clone the repo with images\n",
    "\n",
    "Run:\n",
    "```shell\n",
    "git clone git@github.com:alexeygrigorev/clothing-dataset-small.git\n",
    "```"
   ]
  },
  {
   "cell_type": "code",
   "execution_count": 4,
   "id": "2e8ad42d",
   "metadata": {
    "execution": {
     "iopub.execute_input": "2023-11-19T08:38:40.323052Z",
     "iopub.status.busy": "2023-11-19T08:38:40.322610Z",
     "iopub.status.idle": "2023-11-19T08:38:40.327258Z",
     "shell.execute_reply": "2023-11-19T08:38:40.326579Z",
     "shell.execute_reply.started": "2023-11-19T08:38:40.323025Z"
    },
    "tags": []
   },
   "outputs": [],
   "source": [
    "from tensorflow.keras.preprocessing.image import load_img"
   ]
  },
  {
   "cell_type": "code",
   "execution_count": 5,
   "id": "7479786b",
   "metadata": {
    "execution": {
     "iopub.execute_input": "2023-11-17T05:54:11.474031Z",
     "iopub.status.busy": "2023-11-17T05:54:11.473637Z",
     "iopub.status.idle": "2023-11-17T05:54:12.116971Z",
     "shell.execute_reply": "2023-11-17T05:54:12.116041Z",
     "shell.execute_reply.started": "2023-11-17T05:54:11.474003Z"
    }
   },
   "outputs": [
    {
     "name": "stdout",
     "output_type": "stream",
     "text": [
      "00003aeb-ace5-43bf-9a0c-dc31a03e9cd2.jpg\n",
      "00805d0e-7fe5-4251-b577-86065e4f6587.jpg\n",
      "00d9cc6e-2564-4813-9d68-4bc4d562107b.jpg\n",
      "0144d8a2-0d3b-4bee-b137-324129e746a8.jpg\n",
      "01ace8a7-7621-478e-af83-cd4fac4cb157.jpg\n",
      "01d1fed7-996d-496b-b3ae-73ab724f29cc.jpg\n",
      "0285f2a0-ff21-43de-9762-6454faa5eef8.jpg\n",
      "02ef828a-a7d5-4475-bf44-3907b3a977ff.jpg\n",
      "03103065-f445-44a5-b707-53b73534f57d.jpg\n",
      "0373fc11-3fca-4b92-8ae5-e208d53135a0.jpg\n",
      "ls: write error: Broken pipe\n"
     ]
    }
   ],
   "source": [
    "ls clothing-dataset-small/train/t-shirt | head"
   ]
  },
  {
   "cell_type": "code",
   "execution_count": 6,
   "id": "52b206fb",
   "metadata": {
    "execution": {
     "iopub.execute_input": "2023-11-17T09:48:52.723353Z",
     "iopub.status.busy": "2023-11-17T09:48:52.722952Z",
     "iopub.status.idle": "2023-11-17T09:48:52.762842Z",
     "shell.execute_reply": "2023-11-17T09:48:52.762294Z",
     "shell.execute_reply.started": "2023-11-17T09:48:52.723325Z"
    },
    "tags": []
   },
   "outputs": [],
   "source": [
    "path = \"clothing-dataset-small/train/t-shirt\"\n",
    "name = \"f8c5b758-d78e-4182-8246-5bf94e0442d6.jpg\"\n",
    "fullname = f\"{path}/{name}\"\n",
    "\n",
    "img = load_img(fullname, target_size=(299, 299))"
   ]
  },
  {
   "cell_type": "code",
   "execution_count": 7,
   "id": "931d5ff6",
   "metadata": {
    "execution": {
     "iopub.execute_input": "2023-11-17T05:54:15.374399Z",
     "iopub.status.busy": "2023-11-17T05:54:15.373983Z",
     "iopub.status.idle": "2023-11-17T05:54:15.378530Z",
     "shell.execute_reply": "2023-11-17T05:54:15.377794Z",
     "shell.execute_reply.started": "2023-11-17T05:54:15.374372Z"
    }
   },
   "outputs": [
    {
     "name": "stdout",
     "output_type": "stream",
     "text": [
      "<PIL.Image.Image image mode=RGB size=299x299 at 0x7FA6904F2DF0>\n"
     ]
    }
   ],
   "source": [
    "print(img)"
   ]
  },
  {
   "cell_type": "code",
   "execution_count": 8,
   "id": "d9d93c6a",
   "metadata": {
    "execution": {
     "iopub.execute_input": "2023-11-17T05:54:16.687785Z",
     "iopub.status.busy": "2023-11-17T05:54:16.687272Z",
     "iopub.status.idle": "2023-11-17T05:54:16.694686Z",
     "shell.execute_reply": "2023-11-17T05:54:16.693619Z",
     "shell.execute_reply.started": "2023-11-17T05:54:16.687741Z"
    }
   },
   "outputs": [
    {
     "data": {
      "text/plain": [
       "(299, 299, 3)"
      ]
     },
     "execution_count": 8,
     "metadata": {},
     "output_type": "execute_result"
    }
   ],
   "source": [
    "img_np_array = np.array(img)\n",
    "img_np_array.shape"
   ]
  },
  {
   "cell_type": "markdown",
   "id": "14653967",
   "metadata": {},
   "source": [
    "# 8.3 Pre-trained CNNs\n",
    "\n",
    "- Pre-trained models: https://keras.io/api/applications/"
   ]
  },
  {
   "cell_type": "code",
   "execution_count": 5,
   "id": "73848626",
   "metadata": {
    "execution": {
     "iopub.execute_input": "2023-11-19T08:38:44.406913Z",
     "iopub.status.busy": "2023-11-19T08:38:44.406491Z",
     "iopub.status.idle": "2023-11-19T08:38:44.411462Z",
     "shell.execute_reply": "2023-11-19T08:38:44.410688Z",
     "shell.execute_reply.started": "2023-11-19T08:38:44.406882Z"
    },
    "tags": []
   },
   "outputs": [],
   "source": [
    "from tensorflow.keras.applications.xception import (\n",
    "    Xception,\n",
    "    decode_predictions,\n",
    "    preprocess_input,\n",
    ")"
   ]
  },
  {
   "cell_type": "code",
   "execution_count": 8,
   "id": "f501182c",
   "metadata": {
    "execution": {
     "iopub.execute_input": "2023-11-17T09:49:00.680455Z",
     "iopub.status.busy": "2023-11-17T09:49:00.680054Z",
     "iopub.status.idle": "2023-11-17T09:49:03.001025Z",
     "shell.execute_reply": "2023-11-17T09:49:03.000383Z",
     "shell.execute_reply.started": "2023-11-17T09:49:00.680430Z"
    },
    "tags": []
   },
   "outputs": [
    {
     "name": "stderr",
     "output_type": "stream",
     "text": [
      "2023-11-17 09:49:00.782017: I tensorflow/stream_executor/cuda/cuda_gpu_executor.cc:975] successful NUMA node read from SysFS had negative value (-1), but there must be at least one NUMA node, so returning NUMA node zero\n",
      "2023-11-17 09:49:00.789059: I tensorflow/stream_executor/cuda/cuda_gpu_executor.cc:975] successful NUMA node read from SysFS had negative value (-1), but there must be at least one NUMA node, so returning NUMA node zero\n",
      "2023-11-17 09:49:00.789682: I tensorflow/stream_executor/cuda/cuda_gpu_executor.cc:975] successful NUMA node read from SysFS had negative value (-1), but there must be at least one NUMA node, so returning NUMA node zero\n",
      "2023-11-17 09:49:00.790942: I tensorflow/core/platform/cpu_feature_guard.cc:193] This TensorFlow binary is optimized with oneAPI Deep Neural Network Library (oneDNN) to use the following CPU instructions in performance-critical operations:  AVX2 AVX512F AVX512_VNNI FMA\n",
      "To enable them in other operations, rebuild TensorFlow with the appropriate compiler flags.\n",
      "2023-11-17 09:49:00.791296: I tensorflow/stream_executor/cuda/cuda_gpu_executor.cc:975] successful NUMA node read from SysFS had negative value (-1), but there must be at least one NUMA node, so returning NUMA node zero\n",
      "2023-11-17 09:49:00.792234: I tensorflow/stream_executor/cuda/cuda_gpu_executor.cc:975] successful NUMA node read from SysFS had negative value (-1), but there must be at least one NUMA node, so returning NUMA node zero\n",
      "2023-11-17 09:49:00.793123: I tensorflow/stream_executor/cuda/cuda_gpu_executor.cc:975] successful NUMA node read from SysFS had negative value (-1), but there must be at least one NUMA node, so returning NUMA node zero\n",
      "2023-11-17 09:49:01.445557: I tensorflow/stream_executor/cuda/cuda_gpu_executor.cc:975] successful NUMA node read from SysFS had negative value (-1), but there must be at least one NUMA node, so returning NUMA node zero\n",
      "2023-11-17 09:49:01.446138: I tensorflow/stream_executor/cuda/cuda_gpu_executor.cc:975] successful NUMA node read from SysFS had negative value (-1), but there must be at least one NUMA node, so returning NUMA node zero\n",
      "2023-11-17 09:49:01.446651: I tensorflow/stream_executor/cuda/cuda_gpu_executor.cc:975] successful NUMA node read from SysFS had negative value (-1), but there must be at least one NUMA node, so returning NUMA node zero\n",
      "2023-11-17 09:49:01.447136: I tensorflow/core/common_runtime/gpu/gpu_device.cc:1532] Created device /job:localhost/replica:0/task:0/device:GPU:0 with 13795 MB memory:  -> device: 0, name: Tesla T4, pci bus id: 0000:00:1e.0, compute capability: 7.5\n"
     ]
    }
   ],
   "source": [
    "model = Xception(\n",
    "    weights=\"imagenet\",\n",
    "    input_shape=(299, 299, 3),\n",
    ")"
   ]
  },
  {
   "cell_type": "code",
   "execution_count": 11,
   "id": "42ead32c",
   "metadata": {
    "execution": {
     "iopub.execute_input": "2023-11-17T05:54:24.282204Z",
     "iopub.status.busy": "2023-11-17T05:54:24.281782Z",
     "iopub.status.idle": "2023-11-17T05:54:24.286825Z",
     "shell.execute_reply": "2023-11-17T05:54:24.285962Z",
     "shell.execute_reply.started": "2023-11-17T05:54:24.282175Z"
    }
   },
   "outputs": [],
   "source": [
    "X = np.array([img_np_array])\n",
    "X = preprocess_input(X)"
   ]
  },
  {
   "cell_type": "code",
   "execution_count": 12,
   "id": "29f913ef",
   "metadata": {
    "execution": {
     "iopub.execute_input": "2023-11-17T05:54:28.275467Z",
     "iopub.status.busy": "2023-11-17T05:54:28.275039Z",
     "iopub.status.idle": "2023-11-17T05:54:31.166123Z",
     "shell.execute_reply": "2023-11-17T05:54:31.164775Z",
     "shell.execute_reply.started": "2023-11-17T05:54:28.275438Z"
    }
   },
   "outputs": [
    {
     "name": "stderr",
     "output_type": "stream",
     "text": [
      "2023-11-17 05:54:29.733073: I tensorflow/stream_executor/cuda/cuda_dnn.cc:384] Loaded cuDNN version 8100\n",
      "2023-11-17 05:54:30.415417: I tensorflow/core/platform/default/subprocess.cc:304] Start cannot spawn child process: No such file or directory\n",
      "2023-11-17 05:54:30.415941: I tensorflow/core/platform/default/subprocess.cc:304] Start cannot spawn child process: No such file or directory\n",
      "2023-11-17 05:54:30.415988: W tensorflow/stream_executor/gpu/asm_compiler.cc:80] Couldn't get ptxas version string: INTERNAL: Couldn't invoke ptxas --version\n",
      "2023-11-17 05:54:30.416666: I tensorflow/core/platform/default/subprocess.cc:304] Start cannot spawn child process: No such file or directory\n",
      "2023-11-17 05:54:30.416768: W tensorflow/stream_executor/gpu/redzone_allocator.cc:314] INTERNAL: Failed to launch ptxas\n",
      "Relying on driver to perform ptx compilation. \n",
      "Modify $PATH to customize ptxas location.\n",
      "This message will be only logged once.\n"
     ]
    },
    {
     "name": "stdout",
     "output_type": "stream",
     "text": [
      "1/1 [==============================] - 3s 3s/step\n"
     ]
    }
   ],
   "source": [
    "prediction = model.predict(X)"
   ]
  },
  {
   "cell_type": "code",
   "execution_count": 13,
   "id": "253f0265",
   "metadata": {
    "execution": {
     "iopub.execute_input": "2023-11-17T05:54:58.272489Z",
     "iopub.status.busy": "2023-11-17T05:54:58.272074Z",
     "iopub.status.idle": "2023-11-17T05:54:58.278123Z",
     "shell.execute_reply": "2023-11-17T05:54:58.277465Z",
     "shell.execute_reply.started": "2023-11-17T05:54:58.272465Z"
    }
   },
   "outputs": [
    {
     "data": {
      "text/plain": [
       "(610, 0.86904454)"
      ]
     },
     "execution_count": 13,
     "metadata": {},
     "output_type": "execute_result"
    }
   ],
   "source": [
    "np.argmax(prediction), prediction[0, np.argmax(prediction)]"
   ]
  },
  {
   "cell_type": "code",
   "execution_count": 14,
   "id": "675b95ed",
   "metadata": {
    "execution": {
     "iopub.execute_input": "2023-11-17T05:55:08.971860Z",
     "iopub.status.busy": "2023-11-17T05:55:08.971434Z",
     "iopub.status.idle": "2023-11-17T05:55:08.979078Z",
     "shell.execute_reply": "2023-11-17T05:55:08.978189Z",
     "shell.execute_reply.started": "2023-11-17T05:55:08.971834Z"
    }
   },
   "outputs": [
    {
     "data": {
      "text/plain": [
       "[[('n03595614', 'jersey', 0.86904454),\n",
       "  ('n04370456', 'sweatshirt', 0.028514309),\n",
       "  ('n02730930', 'apron', 0.0058672726),\n",
       "  ('n02916936', 'bulletproof_vest', 0.0053358655),\n",
       "  ('n04599235', 'wool', 0.0038015414)]]"
      ]
     },
     "execution_count": 14,
     "metadata": {},
     "output_type": "execute_result"
    }
   ],
   "source": [
    "decode_predictions(prediction)"
   ]
  },
  {
   "cell_type": "markdown",
   "id": "ebed75df-9465-475e-8991-f395ef42814f",
   "metadata": {},
   "source": [
    "# 8.5 Transfer learning"
   ]
  },
  {
   "cell_type": "code",
   "execution_count": 6,
   "id": "afa980a8-bbd4-492a-afb1-6533aa85bf6d",
   "metadata": {
    "execution": {
     "iopub.execute_input": "2023-11-19T08:38:49.033821Z",
     "iopub.status.busy": "2023-11-19T08:38:49.033411Z",
     "iopub.status.idle": "2023-11-19T08:38:49.037422Z",
     "shell.execute_reply": "2023-11-19T08:38:49.036672Z",
     "shell.execute_reply.started": "2023-11-19T08:38:49.033793Z"
    },
    "tags": []
   },
   "outputs": [],
   "source": [
    "from tensorflow.keras.preprocessing.image import ImageDataGenerator"
   ]
  },
  {
   "cell_type": "code",
   "execution_count": 7,
   "id": "3f6d3dcc-bcf3-4361-a56a-db2968f5511b",
   "metadata": {
    "execution": {
     "iopub.execute_input": "2023-11-19T08:38:49.333430Z",
     "iopub.status.busy": "2023-11-19T08:38:49.333092Z",
     "iopub.status.idle": "2023-11-19T08:38:49.451657Z",
     "shell.execute_reply": "2023-11-19T08:38:49.451000Z",
     "shell.execute_reply.started": "2023-11-19T08:38:49.333404Z"
    },
    "tags": []
   },
   "outputs": [
    {
     "name": "stdout",
     "output_type": "stream",
     "text": [
      "Found 3068 images belonging to 10 classes.\n"
     ]
    }
   ],
   "source": [
    "train_gen = ImageDataGenerator(preprocessing_function=preprocess_input)\n",
    "\n",
    "train_ds = train_gen.flow_from_directory(\n",
    "    \"clothing-dataset-small/train/\", target_size=(150, 150), batch_size=32\n",
    ")"
   ]
  },
  {
   "cell_type": "code",
   "execution_count": 11,
   "id": "627eb9fe-06f7-4775-ac8c-460322ebd4fd",
   "metadata": {
    "execution": {
     "iopub.execute_input": "2023-11-17T09:49:15.270256Z",
     "iopub.status.busy": "2023-11-17T09:49:15.269857Z",
     "iopub.status.idle": "2023-11-17T09:49:15.275528Z",
     "shell.execute_reply": "2023-11-17T09:49:15.274728Z",
     "shell.execute_reply.started": "2023-11-17T09:49:15.270230Z"
    },
    "tags": []
   },
   "outputs": [
    {
     "data": {
      "text/plain": [
       "{'dress': 0,\n",
       " 'hat': 1,\n",
       " 'longsleeve': 2,\n",
       " 'outwear': 3,\n",
       " 'pants': 4,\n",
       " 'shirt': 5,\n",
       " 'shoes': 6,\n",
       " 'shorts': 7,\n",
       " 'skirt': 8,\n",
       " 't-shirt': 9}"
      ]
     },
     "execution_count": 11,
     "metadata": {},
     "output_type": "execute_result"
    }
   ],
   "source": [
    "train_ds.class_indices"
   ]
  },
  {
   "cell_type": "code",
   "execution_count": 12,
   "id": "266c5260-c1af-4cd3-a26f-8183c496407c",
   "metadata": {
    "execution": {
     "iopub.execute_input": "2023-11-17T09:49:16.020227Z",
     "iopub.status.busy": "2023-11-17T09:49:16.019831Z",
     "iopub.status.idle": "2023-11-17T09:49:16.655954Z",
     "shell.execute_reply": "2023-11-17T09:49:16.655070Z",
     "shell.execute_reply.started": "2023-11-17T09:49:16.020203Z"
    },
    "tags": []
   },
   "outputs": [
    {
     "name": "stdout",
     "output_type": "stream",
     "text": [
      "total 40\n",
      "drwxrwsr-x 2 jovyan jovyan 4096 Nov 16 14:24 dress\n",
      "drwxrwsr-x 2 jovyan jovyan 4096 Nov 16 14:24 hat\n",
      "drwxrwsr-x 2 jovyan jovyan 4096 Nov 16 14:24 longsleeve\n",
      "drwxrwsr-x 2 jovyan jovyan 4096 Nov 16 14:24 outwear\n",
      "drwxrwsr-x 2 jovyan jovyan 4096 Nov 16 14:24 pants\n",
      "drwxrwsr-x 2 jovyan jovyan 4096 Nov 16 14:24 shirt\n",
      "drwxrwsr-x 2 jovyan jovyan 4096 Nov 16 14:24 shoes\n",
      "drwxrwsr-x 2 jovyan jovyan 4096 Nov 16 14:24 shorts\n",
      "drwxrwsr-x 2 jovyan jovyan 4096 Nov 16 14:24 skirt\n",
      "drwxrwsr-x 2 jovyan jovyan 4096 Nov 16 14:24 t-shirt\n"
     ]
    }
   ],
   "source": [
    "!ls -l clothing-dataset-small/validation/"
   ]
  },
  {
   "cell_type": "code",
   "execution_count": 13,
   "id": "096cf3af-744c-4b9c-89de-c2cbeda31b3e",
   "metadata": {
    "execution": {
     "iopub.execute_input": "2023-11-17T09:49:16.931575Z",
     "iopub.status.busy": "2023-11-17T09:49:16.931157Z",
     "iopub.status.idle": "2023-11-17T09:49:17.051800Z",
     "shell.execute_reply": "2023-11-17T09:49:17.051213Z",
     "shell.execute_reply.started": "2023-11-17T09:49:16.931545Z"
    },
    "tags": []
   },
   "outputs": [],
   "source": [
    "X, y = next(train_ds)"
   ]
  },
  {
   "cell_type": "markdown",
   "id": "54724867-3956-4254-8245-928f6d29e081",
   "metadata": {},
   "source": [
    "Shape of one batch"
   ]
  },
  {
   "cell_type": "code",
   "execution_count": 14,
   "id": "b0f87497-6b7c-4e00-84a2-59506270d8af",
   "metadata": {
    "execution": {
     "iopub.execute_input": "2023-11-17T09:49:18.059392Z",
     "iopub.status.busy": "2023-11-17T09:49:18.058985Z",
     "iopub.status.idle": "2023-11-17T09:49:18.064514Z",
     "shell.execute_reply": "2023-11-17T09:49:18.063743Z",
     "shell.execute_reply.started": "2023-11-17T09:49:18.059365Z"
    },
    "tags": []
   },
   "outputs": [
    {
     "data": {
      "text/plain": [
       "(32, 150, 150, 3)"
      ]
     },
     "execution_count": 14,
     "metadata": {},
     "output_type": "execute_result"
    }
   ],
   "source": [
    "X.shape"
   ]
  },
  {
   "cell_type": "markdown",
   "id": "d95c46c1-e562-4118-8cfb-adbc57871b03",
   "metadata": {},
   "source": [
    "y is one-hot encoded"
   ]
  },
  {
   "cell_type": "code",
   "execution_count": 15,
   "id": "fcdc8bab-90d0-479f-902c-fda2d03a412c",
   "metadata": {
    "execution": {
     "iopub.execute_input": "2023-11-17T09:49:19.185632Z",
     "iopub.status.busy": "2023-11-17T09:49:19.185207Z",
     "iopub.status.idle": "2023-11-17T09:49:19.191298Z",
     "shell.execute_reply": "2023-11-17T09:49:19.190427Z",
     "shell.execute_reply.started": "2023-11-17T09:49:19.185607Z"
    },
    "tags": []
   },
   "outputs": [
    {
     "data": {
      "text/plain": [
       "array([[0., 0., 0., 0., 0., 1., 0., 0., 0., 0.],\n",
       "       [0., 0., 0., 0., 1., 0., 0., 0., 0., 0.],\n",
       "       [0., 0., 0., 0., 0., 0., 0., 0., 0., 1.],\n",
       "       [0., 0., 0., 0., 0., 0., 0., 0., 1., 0.],\n",
       "       [0., 0., 0., 1., 0., 0., 0., 0., 0., 0.]], dtype=float32)"
      ]
     },
     "execution_count": 15,
     "metadata": {},
     "output_type": "execute_result"
    }
   ],
   "source": [
    "y[:5]"
   ]
  },
  {
   "cell_type": "code",
   "execution_count": 8,
   "id": "f5bbdcaf-b655-486e-bf13-4a968ec896df",
   "metadata": {
    "execution": {
     "iopub.execute_input": "2023-11-19T08:38:52.933471Z",
     "iopub.status.busy": "2023-11-19T08:38:52.933066Z",
     "iopub.status.idle": "2023-11-19T08:38:52.956170Z",
     "shell.execute_reply": "2023-11-19T08:38:52.955340Z",
     "shell.execute_reply.started": "2023-11-19T08:38:52.933445Z"
    },
    "tags": []
   },
   "outputs": [
    {
     "name": "stdout",
     "output_type": "stream",
     "text": [
      "Found 341 images belonging to 10 classes.\n"
     ]
    }
   ],
   "source": [
    "val_gen = ImageDataGenerator(preprocessing_function=preprocess_input)\n",
    "val_ds = train_gen.flow_from_directory(\n",
    "    \"clothing-dataset-small/validation/\",\n",
    "    target_size=(150, 150),\n",
    "    batch_size=32,\n",
    "    shuffle=False,\n",
    ")"
   ]
  },
  {
   "cell_type": "markdown",
   "id": "96d4d5b2-54e6-4f96-9266-0c9cd7143563",
   "metadata": {},
   "source": [
    "## Create base model"
   ]
  },
  {
   "cell_type": "code",
   "execution_count": 17,
   "id": "912451f6-da74-4cc8-86dd-e8c17564c361",
   "metadata": {
    "execution": {
     "iopub.execute_input": "2023-11-17T09:49:21.563485Z",
     "iopub.status.busy": "2023-11-17T09:49:21.563082Z",
     "iopub.status.idle": "2023-11-17T09:49:22.843123Z",
     "shell.execute_reply": "2023-11-17T09:49:22.842421Z",
     "shell.execute_reply.started": "2023-11-17T09:49:21.563458Z"
    },
    "tags": []
   },
   "outputs": [],
   "source": [
    "base_model = Xception(\n",
    "    weights=\"imagenet\",\n",
    "    include_top=False,\n",
    "    input_shape=(150, 150, 3),\n",
    ")\n",
    "\n",
    "base_model.trainable = False"
   ]
  },
  {
   "cell_type": "markdown",
   "id": "184194fa-612b-464d-9879-d4de415c8d08",
   "metadata": {},
   "source": [
    "### Investigate outputs of the base model"
   ]
  },
  {
   "cell_type": "code",
   "execution_count": 18,
   "id": "1a12c42f-8c92-42da-8a0a-f11c9aa984ad",
   "metadata": {
    "execution": {
     "iopub.execute_input": "2023-11-17T09:49:24.212470Z",
     "iopub.status.busy": "2023-11-17T09:49:24.212077Z",
     "iopub.status.idle": "2023-11-17T09:49:24.524265Z",
     "shell.execute_reply": "2023-11-17T09:49:24.523664Z",
     "shell.execute_reply.started": "2023-11-17T09:49:24.212447Z"
    },
    "tags": []
   },
   "outputs": [],
   "source": [
    "inputs = keras.Input(shape=(150, 150, 3))\n",
    "\n",
    "base = base_model(inputs, training=False)\n",
    "\n",
    "outputs = base\n",
    "\n",
    "model = keras.Model(inputs, outputs)"
   ]
  },
  {
   "cell_type": "markdown",
   "id": "f0550541-f88d-4da6-8ff3-c546d9e90e3e",
   "metadata": {},
   "source": [
    "Run the model on one batch of 32 images"
   ]
  },
  {
   "cell_type": "code",
   "execution_count": 19,
   "id": "bf99ade7-ff83-4901-9f85-2423ded9d66e",
   "metadata": {
    "execution": {
     "iopub.execute_input": "2023-11-17T09:49:27.038156Z",
     "iopub.status.busy": "2023-11-17T09:49:27.037752Z",
     "iopub.status.idle": "2023-11-17T09:49:32.514205Z",
     "shell.execute_reply": "2023-11-17T09:49:32.513600Z",
     "shell.execute_reply.started": "2023-11-17T09:49:27.038129Z"
    },
    "tags": []
   },
   "outputs": [
    {
     "name": "stderr",
     "output_type": "stream",
     "text": [
      "2023-11-17 09:49:28.365579: I tensorflow/stream_executor/cuda/cuda_dnn.cc:384] Loaded cuDNN version 8100\n",
      "2023-11-17 09:49:30.369229: I tensorflow/core/platform/default/subprocess.cc:304] Start cannot spawn child process: No such file or directory\n",
      "2023-11-17 09:49:30.369756: I tensorflow/core/platform/default/subprocess.cc:304] Start cannot spawn child process: No such file or directory\n",
      "2023-11-17 09:49:30.369797: W tensorflow/stream_executor/gpu/asm_compiler.cc:80] Couldn't get ptxas version string: INTERNAL: Couldn't invoke ptxas --version\n",
      "2023-11-17 09:49:30.370351: I tensorflow/core/platform/default/subprocess.cc:304] Start cannot spawn child process: No such file or directory\n",
      "2023-11-17 09:49:30.370447: W tensorflow/stream_executor/gpu/redzone_allocator.cc:314] INTERNAL: Failed to launch ptxas\n",
      "Relying on driver to perform ptx compilation. \n",
      "Modify $PATH to customize ptxas location.\n",
      "This message will be only logged once.\n"
     ]
    },
    {
     "name": "stdout",
     "output_type": "stream",
     "text": [
      "1/1 [==============================] - 5s 5s/step\n"
     ]
    }
   ],
   "source": [
    "preds = model.predict(X)"
   ]
  },
  {
   "cell_type": "code",
   "execution_count": 20,
   "id": "8e67c249-b1f3-4ba3-847b-752884044d15",
   "metadata": {
    "execution": {
     "iopub.execute_input": "2023-11-17T09:49:32.515745Z",
     "iopub.status.busy": "2023-11-17T09:49:32.515444Z",
     "iopub.status.idle": "2023-11-17T09:49:32.520310Z",
     "shell.execute_reply": "2023-11-17T09:49:32.519689Z",
     "shell.execute_reply.started": "2023-11-17T09:49:32.515722Z"
    },
    "tags": []
   },
   "outputs": [
    {
     "data": {
      "text/plain": [
       "(32, 5, 5, 2048)"
      ]
     },
     "execution_count": 20,
     "metadata": {},
     "output_type": "execute_result"
    }
   ],
   "source": [
    "preds.shape"
   ]
  },
  {
   "cell_type": "markdown",
   "id": "c2af347d-6ea1-46fc-8651-83902c8681cd",
   "metadata": {},
   "source": [
    "The output of the base model is a 5 * 5 * 2048 (kinda 2048 5x5 images), not a 2048 vector that we'd like to have in the end before passing it to our own dense layers.\n",
    "So before passing it downstream we need to make it a vector.\n",
    "We can apply average pooling for instance"
   ]
  },
  {
   "cell_type": "markdown",
   "id": "5cb5122a-cf7a-4ee7-bdb4-8715260642f8",
   "metadata": {},
   "source": [
    "### Apply the pooling"
   ]
  },
  {
   "cell_type": "code",
   "execution_count": 21,
   "id": "3215b17e-898b-459a-bb6b-66e5cf93bef1",
   "metadata": {
    "execution": {
     "iopub.execute_input": "2023-11-17T09:49:41.072008Z",
     "iopub.status.busy": "2023-11-17T09:49:41.071625Z",
     "iopub.status.idle": "2023-11-17T09:49:41.394186Z",
     "shell.execute_reply": "2023-11-17T09:49:41.393604Z",
     "shell.execute_reply.started": "2023-11-17T09:49:41.071984Z"
    },
    "tags": []
   },
   "outputs": [],
   "source": [
    "inputs = keras.Input(shape=(150, 150, 3))\n",
    "\n",
    "base = base_model(inputs, training=False)\n",
    "\n",
    "vectors = keras.layers.GlobalAveragePooling2D()(base)\n",
    "\n",
    "outputs = vectors\n",
    "\n",
    "model = keras.Model(inputs, outputs)"
   ]
  },
  {
   "cell_type": "markdown",
   "id": "95d16c84-fadc-43d3-96a2-87c2faf83b40",
   "metadata": {},
   "source": [
    "Run the model on one batch of 32 images"
   ]
  },
  {
   "cell_type": "code",
   "execution_count": 22,
   "id": "56232a64-85e0-4b7b-8bed-257cee925b80",
   "metadata": {
    "execution": {
     "iopub.execute_input": "2023-11-17T09:49:42.876809Z",
     "iopub.status.busy": "2023-11-17T09:49:42.876435Z",
     "iopub.status.idle": "2023-11-17T09:49:43.880091Z",
     "shell.execute_reply": "2023-11-17T09:49:43.879461Z",
     "shell.execute_reply.started": "2023-11-17T09:49:42.876782Z"
    },
    "tags": []
   },
   "outputs": [
    {
     "name": "stdout",
     "output_type": "stream",
     "text": [
      "1/1 [==============================] - 1s 941ms/step\n"
     ]
    }
   ],
   "source": [
    "preds = model.predict(X)"
   ]
  },
  {
   "cell_type": "code",
   "execution_count": 23,
   "id": "c4809a31-2fe0-42dc-82f5-f5989f308f94",
   "metadata": {
    "execution": {
     "iopub.execute_input": "2023-11-17T09:49:43.881552Z",
     "iopub.status.busy": "2023-11-17T09:49:43.881234Z",
     "iopub.status.idle": "2023-11-17T09:49:43.886416Z",
     "shell.execute_reply": "2023-11-17T09:49:43.885660Z",
     "shell.execute_reply.started": "2023-11-17T09:49:43.881529Z"
    },
    "tags": []
   },
   "outputs": [
    {
     "data": {
      "text/plain": [
       "(32, 2048)"
      ]
     },
     "execution_count": 23,
     "metadata": {},
     "output_type": "execute_result"
    }
   ],
   "source": [
    "preds.shape"
   ]
  },
  {
   "cell_type": "markdown",
   "id": "91a7bbbf-c2fc-482b-a12a-94f28bfbf08e",
   "metadata": {},
   "source": [
    "Now we see that the output is what we want - 32 vectors of lenght 2048"
   ]
  },
  {
   "cell_type": "markdown",
   "id": "6cc8a46e-9cd0-413e-801f-d01e35cc2623",
   "metadata": {},
   "source": [
    "### Finally add the Dense layer to get the 10-class classification predictions"
   ]
  },
  {
   "cell_type": "code",
   "execution_count": 56,
   "id": "2a5158ed-ccd2-4cd2-997e-d8dafe5cbe2d",
   "metadata": {
    "execution": {
     "iopub.execute_input": "2023-11-17T06:41:18.512638Z",
     "iopub.status.busy": "2023-11-17T06:41:18.512226Z",
     "iopub.status.idle": "2023-11-17T06:41:18.861667Z",
     "shell.execute_reply": "2023-11-17T06:41:18.860984Z",
     "shell.execute_reply.started": "2023-11-17T06:41:18.512611Z"
    }
   },
   "outputs": [],
   "source": [
    "inputs = keras.Input(shape=(150, 150, 3))\n",
    "\n",
    "base = base_model(inputs, training=False)\n",
    "\n",
    "vectors = keras.layers.GlobalAveragePooling2D()(base)\n",
    "\n",
    "outputs = keras.layers.Dense(10)(vectors)\n",
    "\n",
    "model = keras.Model(inputs, outputs)"
   ]
  },
  {
   "cell_type": "code",
   "execution_count": 58,
   "id": "ae54f4b6-156f-47d0-bdb5-cdbbc22e0a86",
   "metadata": {
    "execution": {
     "iopub.execute_input": "2023-11-17T06:41:39.704246Z",
     "iopub.status.busy": "2023-11-17T06:41:39.703801Z",
     "iopub.status.idle": "2023-11-17T06:41:39.805914Z",
     "shell.execute_reply": "2023-11-17T06:41:39.804996Z",
     "shell.execute_reply.started": "2023-11-17T06:41:39.704218Z"
    },
    "tags": []
   },
   "outputs": [
    {
     "name": "stdout",
     "output_type": "stream",
     "text": [
      "1/1 [==============================] - 0s 27ms/step\n"
     ]
    },
    {
     "data": {
      "text/plain": [
       "(32, 10)"
      ]
     },
     "execution_count": 58,
     "metadata": {},
     "output_type": "execute_result"
    }
   ],
   "source": [
    "preds = model.predict(X)\n",
    "preds.shape"
   ]
  },
  {
   "cell_type": "code",
   "execution_count": 61,
   "id": "c21229b0-d74a-4a91-ada1-9b16eb91a070",
   "metadata": {
    "execution": {
     "iopub.execute_input": "2023-11-17T06:42:22.036144Z",
     "iopub.status.busy": "2023-11-17T06:42:22.035319Z",
     "iopub.status.idle": "2023-11-17T06:42:22.042451Z",
     "shell.execute_reply": "2023-11-17T06:42:22.041636Z",
     "shell.execute_reply.started": "2023-11-17T06:42:22.036097Z"
    },
    "tags": []
   },
   "outputs": [
    {
     "data": {
      "text/plain": [
       "array([-0.26659438, -0.75560004,  0.01556641, -1.4941046 , -1.4583678 ,\n",
       "        0.04769646,  1.1236212 ,  0.30248362, -0.59568065, -1.451615  ],\n",
       "      dtype=float32)"
      ]
     },
     "execution_count": 61,
     "metadata": {},
     "output_type": "execute_result"
    }
   ],
   "source": [
    "preds[0]"
   ]
  },
  {
   "cell_type": "markdown",
   "id": "53ce6798-e0c4-4069-8102-e1cccc0eba1b",
   "metadata": {},
   "source": [
    "The output is random because the model isn't trained"
   ]
  },
  {
   "cell_type": "markdown",
   "id": "ab7c182f-e935-415b-afc1-92bd91681fdf",
   "metadata": {},
   "source": [
    "### Train the model"
   ]
  },
  {
   "cell_type": "code",
   "execution_count": 65,
   "id": "6249cfbf-9854-444b-a35d-1a833bc5ef84",
   "metadata": {
    "execution": {
     "iopub.execute_input": "2023-11-17T06:50:50.895208Z",
     "iopub.status.busy": "2023-11-17T06:50:50.894784Z",
     "iopub.status.idle": "2023-11-17T06:50:50.899591Z",
     "shell.execute_reply": "2023-11-17T06:50:50.898731Z",
     "shell.execute_reply.started": "2023-11-17T06:50:50.895180Z"
    },
    "tags": []
   },
   "outputs": [],
   "source": [
    "learning_rate = 0.01\n",
    "optimizer = keras.optimizers.Adam(learning_rate=learning_rate)\n",
    "\n",
    "loss = keras.losses.CategoricalCrossentropy(from_logits=True)"
   ]
  },
  {
   "cell_type": "code",
   "execution_count": 66,
   "id": "e3f8b7a6-f882-488e-920f-3caac701b5d3",
   "metadata": {
    "execution": {
     "iopub.execute_input": "2023-11-17T06:50:53.210598Z",
     "iopub.status.busy": "2023-11-17T06:50:53.210170Z",
     "iopub.status.idle": "2023-11-17T06:50:53.220594Z",
     "shell.execute_reply": "2023-11-17T06:50:53.219831Z",
     "shell.execute_reply.started": "2023-11-17T06:50:53.210571Z"
    },
    "tags": []
   },
   "outputs": [],
   "source": [
    "model.compile(\n",
    "    optimizer=optimizer,\n",
    "    loss=loss,\n",
    "    metrics=[\"accuracy\"],\n",
    ")"
   ]
  },
  {
   "cell_type": "code",
   "execution_count": 67,
   "id": "c39a0b65-ffb8-4dc5-84a9-568d1d2d2815",
   "metadata": {
    "execution": {
     "iopub.execute_input": "2023-11-17T06:50:59.965774Z",
     "iopub.status.busy": "2023-11-17T06:50:59.965223Z",
     "iopub.status.idle": "2023-11-17T06:53:07.693504Z",
     "shell.execute_reply": "2023-11-17T06:53:07.692546Z",
     "shell.execute_reply.started": "2023-11-17T06:50:59.965741Z"
    },
    "tags": []
   },
   "outputs": [
    {
     "name": "stdout",
     "output_type": "stream",
     "text": [
      "Epoch 1/10\n",
      "96/96 [==============================] - 16s 138ms/step - loss: 3.9399 - accuracy: 0.6017 - val_loss: 0.9601 - val_accuracy: 0.7390\n",
      "Epoch 2/10\n",
      "96/96 [==============================] - 12s 129ms/step - loss: 0.5490 - accuracy: 0.8188 - val_loss: 0.8883 - val_accuracy: 0.7595\n",
      "Epoch 3/10\n",
      "96/96 [==============================] - 12s 129ms/step - loss: 0.3842 - accuracy: 0.8667 - val_loss: 0.8554 - val_accuracy: 0.7713\n",
      "Epoch 4/10\n",
      "96/96 [==============================] - 12s 128ms/step - loss: 0.2434 - accuracy: 0.9117 - val_loss: 0.8471 - val_accuracy: 0.8065\n",
      "Epoch 5/10\n",
      "96/96 [==============================] - 12s 129ms/step - loss: 0.1574 - accuracy: 0.9413 - val_loss: 0.8155 - val_accuracy: 0.7889\n",
      "Epoch 6/10\n",
      "96/96 [==============================] - 12s 129ms/step - loss: 0.1045 - accuracy: 0.9632 - val_loss: 0.7436 - val_accuracy: 0.8211\n",
      "Epoch 7/10\n",
      "96/96 [==============================] - 12s 129ms/step - loss: 0.0696 - accuracy: 0.9804 - val_loss: 0.8331 - val_accuracy: 0.8094\n",
      "Epoch 8/10\n",
      "96/96 [==============================] - 12s 129ms/step - loss: 0.0587 - accuracy: 0.9847 - val_loss: 0.8429 - val_accuracy: 0.8211\n",
      "Epoch 9/10\n",
      "96/96 [==============================] - 12s 129ms/step - loss: 0.0355 - accuracy: 0.9945 - val_loss: 0.7857 - val_accuracy: 0.7977\n",
      "Epoch 10/10\n",
      "96/96 [==============================] - 12s 128ms/step - loss: 0.0276 - accuracy: 0.9958 - val_loss: 0.7977 - val_accuracy: 0.8182\n"
     ]
    }
   ],
   "source": [
    "history = model.fit(train_ds, epochs=10, validation_data=val_ds)"
   ]
  },
  {
   "cell_type": "code",
   "execution_count": 79,
   "id": "f3533f05-5be2-4397-807e-ef23bcb916dd",
   "metadata": {
    "execution": {
     "iopub.execute_input": "2023-11-17T06:56:42.523161Z",
     "iopub.status.busy": "2023-11-17T06:56:42.522725Z",
     "iopub.status.idle": "2023-11-17T06:56:42.680003Z",
     "shell.execute_reply": "2023-11-17T06:56:42.679130Z",
     "shell.execute_reply.started": "2023-11-17T06:56:42.523134Z"
    },
    "tags": []
   },
   "outputs": [
    {
     "data": {
      "image/png": "[encoded data removed]",
      "text/plain": [
       "<Figure size 640x480 with 1 Axes>"
      ]
     },
     "metadata": {},
     "output_type": "display_data"
    }
   ],
   "source": [
    "plt.plot(history.history[\"val_accuracy\"], label=\"val\")\n",
    "plt.plot(history.history[\"accuracy\"], label=\"train\")\n",
    "plt.xticks(range(10))\n",
    "plt.legend();"
   ]
  },
  {
   "cell_type": "code",
   "execution_count": 6,
   "id": "84708271-64ed-4b49-9d82-161bb380dac7",
   "metadata": {
    "execution": {
     "iopub.execute_input": "2023-11-17T09:49:51.763583Z",
     "iopub.status.busy": "2023-11-17T09:49:51.763182Z",
     "iopub.status.idle": "2023-11-17T09:49:51.768928Z",
     "shell.execute_reply": "2023-11-17T09:49:51.768263Z",
     "shell.execute_reply.started": "2023-11-17T09:49:51.763559Z"
    },
    "tags": []
   },
   "outputs": [],
   "source": [
    "def make_model(learning_rate=0.01):\n",
    "    base_model = Xception(\n",
    "        weights=\"imagenet\", include_top=False, input_shape=(150, 150, 3)\n",
    "    )\n",
    "\n",
    "    base_model.trainable = False\n",
    "\n",
    "    #########################################\n",
    "\n",
    "    inputs = keras.Input(shape=(150, 150, 3))\n",
    "    base = base_model(inputs, training=False)\n",
    "    vectors = keras.layers.GlobalAveragePooling2D()(base)\n",
    "    outputs = keras.layers.Dense(10)(vectors)\n",
    "    model = keras.Model(inputs, outputs)\n",
    "\n",
    "    #########################################\n",
    "\n",
    "    optimizer = keras.optimizers.Adam(learning_rate=learning_rate)\n",
    "    loss = keras.losses.CategoricalCrossentropy(from_logits=True)\n",
    "\n",
    "    model.compile(optimizer=optimizer, loss=loss, metrics=[\"accuracy\"])\n",
    "\n",
    "    return model"
   ]
  },
  {
   "cell_type": "code",
   "execution_count": 25,
   "id": "28c9521f-8dfc-4672-a2ab-d2276d792553",
   "metadata": {
    "execution": {
     "iopub.execute_input": "2023-11-17T09:49:52.342590Z",
     "iopub.status.busy": "2023-11-17T09:49:52.342064Z",
     "iopub.status.idle": "2023-11-17T09:57:33.631096Z",
     "shell.execute_reply": "2023-11-17T09:57:33.630234Z",
     "shell.execute_reply.started": "2023-11-17T09:49:52.342563Z"
    },
    "tags": []
   },
   "outputs": [
    {
     "name": "stdout",
     "output_type": "stream",
     "text": [
      "0.0001\n",
      "Epoch 1/10\n",
      "96/96 [==============================] - 17s 160ms/step - loss: 2.0169 - accuracy: 0.3295 - val_loss: 1.6099 - val_accuracy: 0.4839\n",
      "Epoch 2/10\n",
      "96/96 [==============================] - 11s 115ms/step - loss: 1.4201 - accuracy: 0.5583 - val_loss: 1.2374 - val_accuracy: 0.6158\n",
      "Epoch 3/10\n",
      "96/96 [==============================] - 11s 114ms/step - loss: 1.1589 - accuracy: 0.6415 - val_loss: 1.0518 - val_accuracy: 0.6657\n",
      "Epoch 4/10\n",
      "96/96 [==============================] - 11s 113ms/step - loss: 1.0134 - accuracy: 0.6796 - val_loss: 0.9373 - val_accuracy: 0.7273\n",
      "Epoch 5/10\n",
      "96/96 [==============================] - 11s 114ms/step - loss: 0.9174 - accuracy: 0.7089 - val_loss: 0.8625 - val_accuracy: 0.7478\n",
      "Epoch 6/10\n",
      "96/96 [==============================] - 11s 115ms/step - loss: 0.8486 - accuracy: 0.7321 - val_loss: 0.8124 - val_accuracy: 0.7654\n",
      "Epoch 7/10\n",
      "96/96 [==============================] - 11s 115ms/step - loss: 0.7960 - accuracy: 0.7422 - val_loss: 0.7743 - val_accuracy: 0.7801\n",
      "Epoch 8/10\n",
      "96/96 [==============================] - 11s 115ms/step - loss: 0.7523 - accuracy: 0.7546 - val_loss: 0.7459 - val_accuracy: 0.7889\n",
      "Epoch 9/10\n",
      "96/96 [==============================] - 11s 115ms/step - loss: 0.7166 - accuracy: 0.7653 - val_loss: 0.7126 - val_accuracy: 0.7889\n",
      "Epoch 10/10\n",
      "96/96 [==============================] - 11s 113ms/step - loss: 0.6865 - accuracy: 0.7793 - val_loss: 0.6934 - val_accuracy: 0.7801\n",
      "\n",
      "\n",
      "0.001\n",
      "Epoch 1/10\n",
      "96/96 [==============================] - 14s 123ms/step - loss: 1.1135 - accuracy: 0.6291 - val_loss: 0.6805 - val_accuracy: 0.7918\n",
      "Epoch 2/10\n",
      "96/96 [==============================] - 11s 114ms/step - loss: 0.6301 - accuracy: 0.7842 - val_loss: 0.6043 - val_accuracy: 0.8123\n",
      "Epoch 3/10\n",
      "96/96 [==============================] - 11s 114ms/step - loss: 0.5144 - accuracy: 0.8276 - val_loss: 0.5514 - val_accuracy: 0.8270\n",
      "Epoch 4/10\n",
      "96/96 [==============================] - 11s 115ms/step - loss: 0.4366 - accuracy: 0.8566 - val_loss: 0.5332 - val_accuracy: 0.8270\n",
      "Epoch 5/10\n",
      "96/96 [==============================] - 11s 115ms/step - loss: 0.3750 - accuracy: 0.8840 - val_loss: 0.5281 - val_accuracy: 0.8240\n",
      "Epoch 6/10\n",
      "96/96 [==============================] - 11s 114ms/step - loss: 0.3265 - accuracy: 0.9100 - val_loss: 0.5171 - val_accuracy: 0.8211\n",
      "Epoch 7/10\n",
      "96/96 [==============================] - 11s 114ms/step - loss: 0.2934 - accuracy: 0.9182 - val_loss: 0.5174 - val_accuracy: 0.8328\n",
      "Epoch 8/10\n",
      "96/96 [==============================] - 11s 115ms/step - loss: 0.2597 - accuracy: 0.9316 - val_loss: 0.5121 - val_accuracy: 0.8358\n",
      "Epoch 9/10\n",
      "96/96 [==============================] - 11s 114ms/step - loss: 0.2326 - accuracy: 0.9430 - val_loss: 0.5144 - val_accuracy: 0.8299\n",
      "Epoch 10/10\n",
      "96/96 [==============================] - 11s 113ms/step - loss: 0.2119 - accuracy: 0.9495 - val_loss: 0.5139 - val_accuracy: 0.8358\n",
      "\n",
      "\n",
      "0.01\n",
      "Epoch 1/10\n",
      "96/96 [==============================] - 14s 122ms/step - loss: 1.2520 - accuracy: 0.6714 - val_loss: 0.8007 - val_accuracy: 0.7683\n",
      "Epoch 2/10\n",
      "96/96 [==============================] - 11s 114ms/step - loss: 0.6282 - accuracy: 0.8087 - val_loss: 0.9890 - val_accuracy: 0.8094\n",
      "Epoch 3/10\n",
      "96/96 [==============================] - 11s 114ms/step - loss: 0.3981 - accuracy: 0.8758 - val_loss: 0.7953 - val_accuracy: 0.7977\n",
      "Epoch 4/10\n",
      "96/96 [==============================] - 11s 113ms/step - loss: 0.2030 - accuracy: 0.9302 - val_loss: 0.8433 - val_accuracy: 0.8035\n",
      "Epoch 5/10\n",
      "96/96 [==============================] - 11s 113ms/step - loss: 0.1486 - accuracy: 0.9446 - val_loss: 0.9531 - val_accuracy: 0.7830\n",
      "Epoch 6/10\n",
      "96/96 [==============================] - 11s 113ms/step - loss: 0.0970 - accuracy: 0.9697 - val_loss: 0.9233 - val_accuracy: 0.8035\n",
      "Epoch 7/10\n",
      "96/96 [==============================] - 11s 114ms/step - loss: 0.0733 - accuracy: 0.9752 - val_loss: 0.8176 - val_accuracy: 0.8211\n",
      "Epoch 8/10\n",
      "96/96 [==============================] - 11s 113ms/step - loss: 0.0538 - accuracy: 0.9853 - val_loss: 0.8292 - val_accuracy: 0.8123\n",
      "Epoch 9/10\n",
      "96/96 [==============================] - 11s 114ms/step - loss: 0.0376 - accuracy: 0.9922 - val_loss: 0.9411 - val_accuracy: 0.7977\n",
      "Epoch 10/10\n",
      "96/96 [==============================] - 11s 113ms/step - loss: 0.0279 - accuracy: 0.9948 - val_loss: 0.9678 - val_accuracy: 0.7977\n",
      "\n",
      "\n",
      "0.1\n",
      "Epoch 1/10\n",
      "96/96 [==============================] - 14s 121ms/step - loss: 12.9498 - accuracy: 0.6186 - val_loss: 7.4633 - val_accuracy: 0.7097\n",
      "Epoch 2/10\n",
      "96/96 [==============================] - 11s 114ms/step - loss: 3.8989 - accuracy: 0.7973 - val_loss: 6.8778 - val_accuracy: 0.7390\n",
      "Epoch 3/10\n",
      "96/96 [==============================] - 11s 113ms/step - loss: 4.0479 - accuracy: 0.8201 - val_loss: 8.5125 - val_accuracy: 0.7243\n",
      "Epoch 4/10\n",
      "96/96 [==============================] - 11s 113ms/step - loss: 3.5412 - accuracy: 0.8409 - val_loss: 14.1854 - val_accuracy: 0.7243\n",
      "Epoch 5/10\n",
      "96/96 [==============================] - 11s 113ms/step - loss: 2.8823 - accuracy: 0.8699 - val_loss: 9.1760 - val_accuracy: 0.7801\n",
      "Epoch 6/10\n",
      "96/96 [==============================] - 11s 113ms/step - loss: 1.3913 - accuracy: 0.9247 - val_loss: 8.6456 - val_accuracy: 0.7654\n",
      "Epoch 7/10\n",
      "96/96 [==============================] - 11s 114ms/step - loss: 2.2359 - accuracy: 0.8947 - val_loss: 10.7302 - val_accuracy: 0.7683\n",
      "Epoch 8/10\n",
      "96/96 [==============================] - 11s 113ms/step - loss: 2.1603 - accuracy: 0.9029 - val_loss: 9.0203 - val_accuracy: 0.7947\n",
      "Epoch 9/10\n",
      "96/96 [==============================] - 11s 114ms/step - loss: 1.1679 - accuracy: 0.9371 - val_loss: 9.2433 - val_accuracy: 0.7889\n",
      "Epoch 10/10\n",
      "96/96 [==============================] - 11s 113ms/step - loss: 0.8570 - accuracy: 0.9478 - val_loss: 10.2228 - val_accuracy: 0.7801\n",
      "\n",
      "\n"
     ]
    }
   ],
   "source": [
    "scores = {}\n",
    "\n",
    "for lr in [0.0001, 0.001, 0.01, 0.1]:\n",
    "    print(lr)\n",
    "    \n",
    "    model = make_model(learning_rate=lr)\n",
    "    history = model.fit(train_ds, epochs=10, validation_data=val_ds)\n",
    "    scores[lr] = history.history\n",
    "    \n",
    "    print()\n",
    "    print()\n",
    "    "
   ]
  },
  {
   "cell_type": "code",
   "execution_count": 31,
   "id": "c27787ef-3de1-4c65-ae1d-69012ed7fb3f",
   "metadata": {
    "execution": {
     "iopub.execute_input": "2023-11-17T10:09:03.532684Z",
     "iopub.status.busy": "2023-11-17T10:09:03.532149Z",
     "iopub.status.idle": "2023-11-17T10:09:03.683958Z",
     "shell.execute_reply": "2023-11-17T10:09:03.683163Z",
     "shell.execute_reply.started": "2023-11-17T10:09:03.532648Z"
    },
    "tags": []
   },
   "outputs": [
    {
     "data": {
      "image/png": "[encoded data removed]",
      "text/plain": [
       "<Figure size 640x480 with 1 Axes>"
      ]
     },
     "metadata": {},
     "output_type": "display_data"
    }
   ],
   "source": [
    "for lr, history in scores.items():\n",
    "    plt.plot(history['accuracy'], label=lr)\n",
    "    \n",
    "plt.title('Training accuracy')\n",
    "plt.xticks(range(10))\n",
    "plt.legend();"
   ]
  },
  {
   "cell_type": "code",
   "execution_count": 32,
   "id": "c4658064-ccdb-4b7e-98ad-740014484fca",
   "metadata": {
    "execution": {
     "iopub.execute_input": "2023-11-17T10:09:04.515241Z",
     "iopub.status.busy": "2023-11-17T10:09:04.514840Z",
     "iopub.status.idle": "2023-11-17T10:09:04.653348Z",
     "shell.execute_reply": "2023-11-17T10:09:04.652769Z",
     "shell.execute_reply.started": "2023-11-17T10:09:04.515215Z"
    },
    "tags": []
   },
   "outputs": [
    {
     "data": {
      "image/png": "[encoded data removed]",
      "text/plain": [
       "<Figure size 640x480 with 1 Axes>"
      ]
     },
     "metadata": {},
     "output_type": "display_data"
    }
   ],
   "source": [
    "for lr, history in scores.items():\n",
    "    plt.plot(history['val_accuracy'], label=lr)\n",
    "\n",
    "    \n",
    "plt.title('Validation accuracy')\n",
    "plt.xticks(range(10))\n",
    "plt.legend();"
   ]
  },
  {
   "cell_type": "markdown",
   "id": "0438e387-7c2b-4215-ac60-f75ef57dbf14",
   "metadata": {},
   "source": [
    "We see that the best rate is 0.001 (Adam's default one, surprise-surprise!)"
   ]
  },
  {
   "cell_type": "markdown",
   "id": "3c374aed-6e33-4aca-ba80-12e9a945dc85",
   "metadata": {},
   "source": [
    "# 8.7 Checkpointing "
   ]
  },
  {
   "cell_type": "code",
   "execution_count": 5,
   "id": "59f27d3f",
   "metadata": {},
   "outputs": [],
   "source": [
    "checkpoint_callback = keras.callbacks.ModelCheckpoint(\n",
    "    'xception_v1_{epoch:02d}_{val_accuracy:.3f}.h5',\n",
    "    save_best_only=True,\n",
    "    monitor='val_accuracy',\n",
    "    mode='max'\n",
    ")"
   ]
  },
  {
   "cell_type": "code",
   "execution_count": 14,
   "id": "08d8ed66",
   "metadata": {},
   "outputs": [
    {
     "name": "stderr",
     "output_type": "stream",
     "text": [
      "WARNING:absl:At this time, the v2.11+ optimizer `tf.keras.optimizers.Adam` runs slowly on M1/M2 Macs, please use the legacy Keras optimizer instead, located at `tf.keras.optimizers.legacy.Adam`.\n"
     ]
    },
    {
     "name": "stdout",
     "output_type": "stream",
     "text": [
      "Epoch 1/10\n",
      "96/96 [==============================] - 34s 339ms/step - loss: 1.0966 - accuracy: 0.6359 - val_loss: 0.6979 - val_accuracy: 0.7889\n",
      "Epoch 2/10\n"
     ]
    },
    {
     "name": "stderr",
     "output_type": "stream",
     "text": [
      "/Users/alexlitvinov/anaconda3/envs/machine-learning-zoomcamp/lib/python3.10/site-packages/keras/src/engine/training.py:3103: UserWarning: You are saving your model as an HDF5 file via `model.save()`. This file format is considered legacy. We recommend using instead the native Keras format, e.g. `model.save('my_model.keras')`.\n",
      "  saving_api.save_model(\n"
     ]
    },
    {
     "name": "stdout",
     "output_type": "stream",
     "text": [
      "96/96 [==============================] - 34s 353ms/step - loss: 0.6274 - accuracy: 0.7832 - val_loss: 0.6064 - val_accuracy: 0.7918\n",
      "Epoch 3/10\n",
      "96/96 [==============================] - 34s 349ms/step - loss: 0.5034 - accuracy: 0.8357 - val_loss: 0.5718 - val_accuracy: 0.8094\n",
      "Epoch 4/10\n",
      "96/96 [==============================] - 34s 357ms/step - loss: 0.4289 - accuracy: 0.8621 - val_loss: 0.5782 - val_accuracy: 0.8094\n",
      "Epoch 5/10\n",
      "96/96 [==============================] - 33s 345ms/step - loss: 0.3664 - accuracy: 0.8921 - val_loss: 0.5474 - val_accuracy: 0.8035\n",
      "Epoch 6/10\n",
      "96/96 [==============================] - 34s 354ms/step - loss: 0.3221 - accuracy: 0.9074 - val_loss: 0.5224 - val_accuracy: 0.8211\n",
      "Epoch 7/10\n",
      "96/96 [==============================] - 34s 356ms/step - loss: 0.2840 - accuracy: 0.9286 - val_loss: 0.5189 - val_accuracy: 0.8328\n",
      "Epoch 8/10\n",
      "96/96 [==============================] - 33s 343ms/step - loss: 0.2551 - accuracy: 0.9345 - val_loss: 0.5263 - val_accuracy: 0.8182\n",
      "Epoch 9/10\n",
      "96/96 [==============================] - 33s 348ms/step - loss: 0.2324 - accuracy: 0.9452 - val_loss: 0.5372 - val_accuracy: 0.8123\n",
      "Epoch 10/10\n",
      "96/96 [==============================] - 33s 342ms/step - loss: 0.2072 - accuracy: 0.9566 - val_loss: 0.5386 - val_accuracy: 0.8123\n"
     ]
    }
   ],
   "source": [
    "learning_rate = 0.001\n",
    "\n",
    "model = make_model(learning_rate=learning_rate)\n",
    "\n",
    "history = model.fit(\n",
    "    train_ds,\n",
    "    epochs=10,\n",
    "    validation_data=val_ds,\n",
    "    callbacks=[checkpoint_callback]\n",
    ")"
   ]
  },
  {
   "cell_type": "markdown",
   "id": "f0c4c8a1",
   "metadata": {},
   "source": [
    "# 8.8 Adding more layers\n",
    "\n",
    "Add one inner layer and finetune its size"
   ]
  },
  {
   "cell_type": "code",
   "execution_count": 18,
   "id": "32709169",
   "metadata": {},
   "outputs": [],
   "source": [
    "def make_model(learning_rate=0.001, size_inner=100):\n",
    "    base_model = Xception(\n",
    "        weights='imagenet',\n",
    "        include_top=False,\n",
    "        input_shape=(150, 150, 3)\n",
    "    )\n",
    "\n",
    "    base_model.trainable = False\n",
    "\n",
    "    #########################################\n",
    "\n",
    "    inputs = keras.Input(shape=(150, 150, 3))\n",
    "    base = base_model(inputs, training=False)\n",
    "    vectors = keras.layers.GlobalAveragePooling2D()(base)\n",
    "    \n",
    "    inner = keras.layers.Dense(size_inner, activation='relu')(vectors)\n",
    "    \n",
    "    outputs = keras.layers.Dense(10)(inner)\n",
    "    \n",
    "    model = keras.Model(inputs, outputs)\n",
    "    \n",
    "    #########################################\n",
    "\n",
    "    # uncomment when running on saturn cloud\n",
    "    # optimizer = keras.optimizers.Adam(learning_rate=learning_rate)\n",
    "    optimizer = keras.optimizers.legacy.Adam(learning_rate=learning_rate)\n",
    "    loss = keras.losses.CategoricalCrossentropy(from_logits=True)\n",
    "\n",
    "    model.compile(\n",
    "        optimizer=optimizer,\n",
    "        loss=loss,\n",
    "        metrics=['accuracy']\n",
    "    )\n",
    "    \n",
    "    return model"
   ]
  },
  {
   "cell_type": "code",
   "execution_count": 19,
   "id": "b1f96056",
   "metadata": {},
   "outputs": [
    {
     "name": "stdout",
     "output_type": "stream",
     "text": [
      "10\n",
      "Epoch 1/10\n",
      "96/96 [==============================] - 35s 360ms/step - loss: 1.5734 - accuracy: 0.5010 - val_loss: 1.1394 - val_accuracy: 0.6334\n",
      "Epoch 2/10\n",
      "96/96 [==============================] - 34s 359ms/step - loss: 0.9984 - accuracy: 0.6897 - val_loss: 0.8698 - val_accuracy: 0.7361\n",
      "Epoch 3/10\n",
      "96/96 [==============================] - 35s 367ms/step - loss: 0.7822 - accuracy: 0.7432 - val_loss: 0.7724 - val_accuracy: 0.7537\n",
      "Epoch 4/10\n",
      "96/96 [==============================] - 33s 344ms/step - loss: 0.6650 - accuracy: 0.7823 - val_loss: 0.6968 - val_accuracy: 0.7742\n",
      "Epoch 5/10\n",
      "96/96 [==============================] - 36s 378ms/step - loss: 0.5794 - accuracy: 0.8070 - val_loss: 0.6750 - val_accuracy: 0.7801\n",
      "Epoch 6/10\n",
      "96/96 [==============================] - 34s 354ms/step - loss: 0.5134 - accuracy: 0.8341 - val_loss: 0.6501 - val_accuracy: 0.7889\n",
      "Epoch 7/10\n",
      "96/96 [==============================] - 33s 346ms/step - loss: 0.4674 - accuracy: 0.8514 - val_loss: 0.6305 - val_accuracy: 0.7859\n",
      "Epoch 8/10\n",
      "96/96 [==============================] - 34s 359ms/step - loss: 0.4183 - accuracy: 0.8735 - val_loss: 0.6264 - val_accuracy: 0.8035\n",
      "Epoch 9/10\n",
      "96/96 [==============================] - 36s 370ms/step - loss: 0.3800 - accuracy: 0.8820 - val_loss: 0.6350 - val_accuracy: 0.7977\n",
      "Epoch 10/10\n",
      "96/96 [==============================] - 33s 348ms/step - loss: 0.3425 - accuracy: 0.8999 - val_loss: 0.6068 - val_accuracy: 0.8152\n",
      "\n",
      "\n",
      "100\n",
      "Epoch 1/10\n",
      "96/96 [==============================] - 35s 352ms/step - loss: 0.9856 - accuracy: 0.6705 - val_loss: 0.6715 - val_accuracy: 0.7742\n",
      "Epoch 2/10\n",
      "96/96 [==============================] - 33s 346ms/step - loss: 0.5113 - accuracy: 0.8171 - val_loss: 0.6148 - val_accuracy: 0.7859\n",
      "Epoch 3/10\n",
      "96/96 [==============================] - 34s 357ms/step - loss: 0.3669 - accuracy: 0.8794 - val_loss: 0.5750 - val_accuracy: 0.8211\n",
      "Epoch 4/10\n",
      "96/96 [==============================] - 33s 343ms/step - loss: 0.2589 - accuracy: 0.9166 - val_loss: 0.6032 - val_accuracy: 0.7977\n",
      "Epoch 5/10\n",
      "96/96 [==============================] - 35s 369ms/step - loss: 0.1792 - accuracy: 0.9544 - val_loss: 0.5934 - val_accuracy: 0.8094\n",
      "Epoch 6/10\n",
      "96/96 [==============================] - 37s 385ms/step - loss: 0.1258 - accuracy: 0.9710 - val_loss: 0.6094 - val_accuracy: 0.8182\n",
      "Epoch 7/10\n",
      "96/96 [==============================] - 37s 386ms/step - loss: 0.0958 - accuracy: 0.9827 - val_loss: 0.6368 - val_accuracy: 0.8182\n",
      "Epoch 8/10\n",
      "96/96 [==============================] - 38s 391ms/step - loss: 0.0630 - accuracy: 0.9935 - val_loss: 0.6039 - val_accuracy: 0.8182\n",
      "Epoch 9/10\n",
      "96/96 [==============================] - 41s 424ms/step - loss: 0.0464 - accuracy: 0.9958 - val_loss: 0.6571 - val_accuracy: 0.8152\n",
      "Epoch 10/10\n",
      "96/96 [==============================] - 39s 404ms/step - loss: 0.0324 - accuracy: 0.9990 - val_loss: 0.6541 - val_accuracy: 0.8152\n",
      "\n",
      "\n",
      "1000\n",
      "Epoch 1/10\n",
      "96/96 [==============================] - 39s 395ms/step - loss: 0.9709 - accuracy: 0.6838 - val_loss: 0.7016 - val_accuracy: 0.7771\n",
      "Epoch 2/10\n",
      "96/96 [==============================] - 40s 420ms/step - loss: 0.4534 - accuracy: 0.8374 - val_loss: 0.5969 - val_accuracy: 0.7683\n",
      "Epoch 3/10\n",
      "96/96 [==============================] - 40s 419ms/step - loss: 0.2668 - accuracy: 0.9110 - val_loss: 0.7038 - val_accuracy: 0.7830\n",
      "Epoch 4/10\n",
      "96/96 [==============================] - 39s 403ms/step - loss: 0.1546 - accuracy: 0.9521 - val_loss: 0.5969 - val_accuracy: 0.8240\n",
      "Epoch 5/10\n",
      "96/96 [==============================] - 40s 419ms/step - loss: 0.0897 - accuracy: 0.9775 - val_loss: 0.6014 - val_accuracy: 0.8211\n",
      "Epoch 6/10\n",
      "96/96 [==============================] - 41s 421ms/step - loss: 0.0469 - accuracy: 0.9928 - val_loss: 0.6808 - val_accuracy: 0.8152\n",
      "Epoch 7/10\n",
      "96/96 [==============================] - 44s 463ms/step - loss: 0.0294 - accuracy: 0.9954 - val_loss: 0.6468 - val_accuracy: 0.8182\n",
      "Epoch 8/10\n",
      "96/96 [==============================] - 46s 481ms/step - loss: 0.0243 - accuracy: 0.9964 - val_loss: 0.6584 - val_accuracy: 0.8240\n",
      "Epoch 9/10\n",
      "96/96 [==============================] - 52s 540ms/step - loss: 0.0117 - accuracy: 0.9990 - val_loss: 0.7106 - val_accuracy: 0.8123\n",
      "Epoch 10/10\n",
      "96/96 [==============================] - 52s 541ms/step - loss: 0.0104 - accuracy: 0.9987 - val_loss: 0.6834 - val_accuracy: 0.8211\n",
      "\n",
      "\n"
     ]
    }
   ],
   "source": [
    "scores = {}\n",
    "\n",
    "for size in [10, 100, 1000]:\n",
    "    print(size)\n",
    "    \n",
    "    model = make_model(size_inner=size)\n",
    "    history = model.fit(train_ds, epochs=10, validation_data=val_ds)\n",
    "    scores[size] = history.history\n",
    "    \n",
    "    print()\n",
    "    print()"
   ]
  },
  {
   "cell_type": "code",
   "execution_count": 20,
   "id": "5d8d1fc2",
   "metadata": {},
   "outputs": [
    {
     "data": {
      "image/png": "[encoded data removed]",
      "text/plain": [
       "<Figure size 640x480 with 1 Axes>"
      ]
     },
     "metadata": {},
     "output_type": "display_data"
    }
   ],
   "source": [
    "for size, history in scores.items():\n",
    "    plt.plot(history['accuracy'], label=f'size={size}')\n",
    "    \n",
    "plt.title('Training accuracy')\n",
    "plt.xticks(range(10))\n",
    "plt.legend();"
   ]
  },
  {
   "cell_type": "code",
   "execution_count": 21,
   "id": "2990d117",
   "metadata": {},
   "outputs": [
    {
     "data": {
      "image/png": "[encoded data removed]",
      "text/plain": [
       "<Figure size 640x480 with 1 Axes>"
      ]
     },
     "metadata": {},
     "output_type": "display_data"
    }
   ],
   "source": [
    "for size, history in scores.items():\n",
    "    plt.plot(history['val_accuracy'], label=f'size={size}')\n",
    "\n",
    "    \n",
    "plt.title('Validation accuracy')\n",
    "plt.xticks(range(10))\n",
    "plt.legend();"
   ]
  },
  {
   "cell_type": "markdown",
   "id": "4c9449d5-d8a6-4194-98ca-ffa809db398f",
   "metadata": {
    "execution": {
     "iopub.execute_input": "2023-11-19T08:35:42.990903Z",
     "iopub.status.busy": "2023-11-19T08:35:42.990422Z",
     "iopub.status.idle": "2023-11-19T08:35:42.994708Z",
     "shell.execute_reply": "2023-11-19T08:35:42.994008Z",
     "shell.execute_reply.started": "2023-11-19T08:35:42.990832Z"
    }
   },
   "source": [
    "# 8.9 Regularization through Dropout"
   ]
  },
  {
   "cell_type": "code",
   "execution_count": 9,
   "id": "f5d26012-9fff-4a73-85a8-550e0f1774d5",
   "metadata": {
    "execution": {
     "iopub.execute_input": "2023-11-19T08:38:59.341830Z",
     "iopub.status.busy": "2023-11-19T08:38:59.341430Z",
     "iopub.status.idle": "2023-11-19T08:38:59.348429Z",
     "shell.execute_reply": "2023-11-19T08:38:59.347534Z",
     "shell.execute_reply.started": "2023-11-19T08:38:59.341800Z"
    }
   },
   "outputs": [],
   "source": [
    "def make_model(learning_rate=0.001, size_inner=100, droprate=0.5):\n",
    "    base_model = Xception(\n",
    "        weights='imagenet',\n",
    "        include_top=False,\n",
    "        input_shape=(150, 150, 3)\n",
    "    )\n",
    "\n",
    "    base_model.trainable = False\n",
    "\n",
    "    #########################################\n",
    "\n",
    "    inputs = keras.Input(shape=(150, 150, 3))\n",
    "    base = base_model(inputs, training=False)\n",
    "    vectors = keras.layers.GlobalAveragePooling2D()(base)\n",
    "    \n",
    "    inner = keras.layers.Dense(size_inner, activation='relu')(vectors)\n",
    "    drop = keras.layers.Dropout(droprate)(inner)\n",
    "    \n",
    "    outputs = keras.layers.Dense(10)(drop)\n",
    "    \n",
    "    model = keras.Model(inputs, outputs)\n",
    "    \n",
    "    #########################################\n",
    "\n",
    "    optimizer = keras.optimizers.Adam(learning_rate=learning_rate)\n",
    "    loss = keras.losses.CategoricalCrossentropy(from_logits=True)\n",
    "\n",
    "    model.compile(\n",
    "        optimizer=optimizer,\n",
    "        loss=loss,\n",
    "        metrics=['accuracy']\n",
    "    )\n",
    "    \n",
    "    return model"
   ]
  },
  {
   "cell_type": "code",
   "execution_count": 10,
   "id": "62559d1f-0593-49ef-9ac3-f8881ee99a5d",
   "metadata": {
    "execution": {
     "iopub.execute_input": "2023-11-19T08:38:59.729044Z",
     "iopub.status.busy": "2023-11-19T08:38:59.728616Z",
     "iopub.status.idle": "2023-11-19T09:02:47.578925Z",
     "shell.execute_reply": "2023-11-19T09:02:47.578035Z",
     "shell.execute_reply.started": "2023-11-19T08:38:59.729015Z"
    }
   },
   "outputs": [
    {
     "name": "stdout",
     "output_type": "stream",
     "text": [
      "0.0\n"
     ]
    },
    {
     "name": "stderr",
     "output_type": "stream",
     "text": [
      "2023-11-19 08:38:59.805583: I tensorflow/stream_executor/cuda/cuda_gpu_executor.cc:975] successful NUMA node read from SysFS had negative value (-1), but there must be at least one NUMA node, so returning NUMA node zero\n",
      "2023-11-19 08:38:59.811966: I tensorflow/stream_executor/cuda/cuda_gpu_executor.cc:975] successful NUMA node read from SysFS had negative value (-1), but there must be at least one NUMA node, so returning NUMA node zero\n",
      "2023-11-19 08:38:59.812551: I tensorflow/stream_executor/cuda/cuda_gpu_executor.cc:975] successful NUMA node read from SysFS had negative value (-1), but there must be at least one NUMA node, so returning NUMA node zero\n",
      "2023-11-19 08:38:59.813676: I tensorflow/core/platform/cpu_feature_guard.cc:193] This TensorFlow binary is optimized with oneAPI Deep Neural Network Library (oneDNN) to use the following CPU instructions in performance-critical operations:  AVX2 AVX512F AVX512_VNNI FMA\n",
      "To enable them in other operations, rebuild TensorFlow with the appropriate compiler flags.\n",
      "2023-11-19 08:38:59.814015: I tensorflow/stream_executor/cuda/cuda_gpu_executor.cc:975] successful NUMA node read from SysFS had negative value (-1), but there must be at least one NUMA node, so returning NUMA node zero\n",
      "2023-11-19 08:38:59.814605: I tensorflow/stream_executor/cuda/cuda_gpu_executor.cc:975] successful NUMA node read from SysFS had negative value (-1), but there must be at least one NUMA node, so returning NUMA node zero\n",
      "2023-11-19 08:38:59.815268: I tensorflow/stream_executor/cuda/cuda_gpu_executor.cc:975] successful NUMA node read from SysFS had negative value (-1), but there must be at least one NUMA node, so returning NUMA node zero\n",
      "2023-11-19 08:39:00.500584: I tensorflow/stream_executor/cuda/cuda_gpu_executor.cc:975] successful NUMA node read from SysFS had negative value (-1), but there must be at least one NUMA node, so returning NUMA node zero\n",
      "2023-11-19 08:39:00.501185: I tensorflow/stream_executor/cuda/cuda_gpu_executor.cc:975] successful NUMA node read from SysFS had negative value (-1), but there must be at least one NUMA node, so returning NUMA node zero\n",
      "2023-11-19 08:39:00.501713: I tensorflow/stream_executor/cuda/cuda_gpu_executor.cc:975] successful NUMA node read from SysFS had negative value (-1), but there must be at least one NUMA node, so returning NUMA node zero\n",
      "2023-11-19 08:39:00.502232: I tensorflow/core/common_runtime/gpu/gpu_device.cc:1532] Created device /job:localhost/replica:0/task:0/device:GPU:0 with 13795 MB memory:  -> device: 0, name: Tesla T4, pci bus id: 0000:00:1e.0, compute capability: 7.5\n"
     ]
    },
    {
     "name": "stdout",
     "output_type": "stream",
     "text": [
      "Epoch 1/30\n"
     ]
    },
    {
     "name": "stderr",
     "output_type": "stream",
     "text": [
      "2023-11-19 08:39:05.609118: I tensorflow/stream_executor/cuda/cuda_dnn.cc:384] Loaded cuDNN version 8100\n",
      "2023-11-19 08:39:06.244161: I tensorflow/core/platform/default/subprocess.cc:304] Start cannot spawn child process: No such file or directory\n",
      "2023-11-19 08:39:06.244655: I tensorflow/core/platform/default/subprocess.cc:304] Start cannot spawn child process: No such file or directory\n",
      "2023-11-19 08:39:06.244703: W tensorflow/stream_executor/gpu/asm_compiler.cc:80] Couldn't get ptxas version string: INTERNAL: Couldn't invoke ptxas --version\n",
      "2023-11-19 08:39:06.245334: I tensorflow/core/platform/default/subprocess.cc:304] Start cannot spawn child process: No such file or directory\n",
      "2023-11-19 08:39:06.245410: W tensorflow/stream_executor/gpu/redzone_allocator.cc:314] INTERNAL: Failed to launch ptxas\n",
      "Relying on driver to perform ptx compilation. \n",
      "Modify $PATH to customize ptxas location.\n",
      "This message will be only logged once.\n"
     ]
    },
    {
     "name": "stdout",
     "output_type": "stream",
     "text": [
      "96/96 [==============================] - 20s 162ms/step - loss: 0.9806 - accuracy: 0.6600 - val_loss: 0.6288 - val_accuracy: 0.7947\n",
      "Epoch 2/30\n",
      "96/96 [==============================] - 12s 122ms/step - loss: 0.4965 - accuracy: 0.8269 - val_loss: 0.6162 - val_accuracy: 0.8006\n",
      "Epoch 3/30\n",
      "96/96 [==============================] - 12s 122ms/step - loss: 0.3457 - accuracy: 0.8830 - val_loss: 0.5493 - val_accuracy: 0.8211\n",
      "Epoch 4/30\n",
      "96/96 [==============================] - 12s 121ms/step - loss: 0.2423 - accuracy: 0.9293 - val_loss: 0.5596 - val_accuracy: 0.8152\n",
      "Epoch 5/30\n",
      "96/96 [==============================] - 12s 120ms/step - loss: 0.1717 - accuracy: 0.9553 - val_loss: 0.5574 - val_accuracy: 0.8211\n",
      "Epoch 6/30\n",
      "96/96 [==============================] - 12s 120ms/step - loss: 0.1183 - accuracy: 0.9716 - val_loss: 0.6251 - val_accuracy: 0.7977\n",
      "Epoch 7/30\n",
      "96/96 [==============================] - 12s 120ms/step - loss: 0.0985 - accuracy: 0.9778 - val_loss: 0.6825 - val_accuracy: 0.8065\n",
      "Epoch 8/30\n",
      "96/96 [==============================] - 12s 121ms/step - loss: 0.0646 - accuracy: 0.9902 - val_loss: 0.6164 - val_accuracy: 0.8152\n",
      "Epoch 9/30\n",
      "96/96 [==============================] - 12s 122ms/step - loss: 0.0404 - accuracy: 0.9964 - val_loss: 0.6633 - val_accuracy: 0.8035\n",
      "Epoch 10/30\n",
      "96/96 [==============================] - 12s 121ms/step - loss: 0.0304 - accuracy: 0.9987 - val_loss: 0.6355 - val_accuracy: 0.8211\n",
      "Epoch 11/30\n",
      "96/96 [==============================] - 12s 121ms/step - loss: 0.0214 - accuracy: 0.9993 - val_loss: 0.6570 - val_accuracy: 0.8123\n",
      "Epoch 12/30\n",
      "96/96 [==============================] - 12s 121ms/step - loss: 0.0206 - accuracy: 0.9987 - val_loss: 0.6671 - val_accuracy: 0.8211\n",
      "Epoch 13/30\n",
      "96/96 [==============================] - 12s 121ms/step - loss: 0.0169 - accuracy: 0.9987 - val_loss: 0.6824 - val_accuracy: 0.8211\n",
      "Epoch 14/30\n",
      "96/96 [==============================] - 12s 121ms/step - loss: 0.0134 - accuracy: 0.9993 - val_loss: 0.6857 - val_accuracy: 0.8182\n",
      "Epoch 15/30\n",
      "96/96 [==============================] - 12s 120ms/step - loss: 0.0117 - accuracy: 0.9990 - val_loss: 0.6957 - val_accuracy: 0.8211\n",
      "Epoch 16/30\n",
      "96/96 [==============================] - 12s 121ms/step - loss: 0.0128 - accuracy: 0.9993 - val_loss: 0.7156 - val_accuracy: 0.8299\n",
      "Epoch 17/30\n",
      "96/96 [==============================] - 12s 120ms/step - loss: 0.0114 - accuracy: 0.9987 - val_loss: 0.7728 - val_accuracy: 0.7918\n",
      "Epoch 18/30\n",
      "96/96 [==============================] - 12s 120ms/step - loss: 0.0107 - accuracy: 0.9993 - val_loss: 0.7152 - val_accuracy: 0.8211\n",
      "Epoch 19/30\n",
      "96/96 [==============================] - 12s 121ms/step - loss: 0.0063 - accuracy: 0.9993 - val_loss: 0.7164 - val_accuracy: 0.8240\n",
      "Epoch 20/30\n",
      "96/96 [==============================] - 11s 119ms/step - loss: 0.0069 - accuracy: 0.9993 - val_loss: 0.7390 - val_accuracy: 0.8240\n",
      "Epoch 21/30\n",
      "96/96 [==============================] - 11s 119ms/step - loss: 0.0079 - accuracy: 0.9997 - val_loss: 0.7228 - val_accuracy: 0.8240\n",
      "Epoch 22/30\n",
      "96/96 [==============================] - 12s 120ms/step - loss: 0.0057 - accuracy: 0.9997 - val_loss: 0.7607 - val_accuracy: 0.8211\n",
      "Epoch 23/30\n",
      "96/96 [==============================] - 11s 119ms/step - loss: 0.0086 - accuracy: 0.9993 - val_loss: 0.7424 - val_accuracy: 0.8270\n",
      "Epoch 24/30\n",
      "96/96 [==============================] - 12s 120ms/step - loss: 0.0050 - accuracy: 0.9993 - val_loss: 0.7798 - val_accuracy: 0.8240\n",
      "Epoch 25/30\n",
      "96/96 [==============================] - 11s 119ms/step - loss: 0.0064 - accuracy: 0.9993 - val_loss: 0.7948 - val_accuracy: 0.8182\n",
      "Epoch 26/30\n",
      "96/96 [==============================] - 12s 121ms/step - loss: 0.0103 - accuracy: 0.9987 - val_loss: 0.7653 - val_accuracy: 0.8270\n",
      "Epoch 27/30\n",
      "96/96 [==============================] - 12s 122ms/step - loss: 0.0049 - accuracy: 0.9993 - val_loss: 0.7829 - val_accuracy: 0.8358\n",
      "Epoch 28/30\n",
      "96/96 [==============================] - 12s 121ms/step - loss: 0.0230 - accuracy: 0.9938 - val_loss: 0.9899 - val_accuracy: 0.7713\n",
      "Epoch 29/30\n",
      "96/96 [==============================] - 12s 121ms/step - loss: 0.2436 - accuracy: 0.9185 - val_loss: 0.8786 - val_accuracy: 0.8035\n",
      "Epoch 30/30\n",
      "96/96 [==============================] - 12s 120ms/step - loss: 0.1005 - accuracy: 0.9648 - val_loss: 0.8609 - val_accuracy: 0.7977\n",
      "\n",
      "\n",
      "0.2\n",
      "Epoch 1/30\n",
      "96/96 [==============================] - 15s 130ms/step - loss: 1.0402 - accuracy: 0.6503 - val_loss: 0.7511 - val_accuracy: 0.7595\n",
      "Epoch 2/30\n",
      "96/96 [==============================] - 12s 121ms/step - loss: 0.6085 - accuracy: 0.7917 - val_loss: 0.5651 - val_accuracy: 0.7977\n",
      "Epoch 3/30\n",
      "96/96 [==============================] - 12s 120ms/step - loss: 0.4623 - accuracy: 0.8445 - val_loss: 0.5539 - val_accuracy: 0.8270\n",
      "Epoch 4/30\n",
      "96/96 [==============================] - 12s 121ms/step - loss: 0.3472 - accuracy: 0.8836 - val_loss: 0.5311 - val_accuracy: 0.8358\n",
      "Epoch 5/30\n",
      "96/96 [==============================] - 12s 122ms/step - loss: 0.2655 - accuracy: 0.9185 - val_loss: 0.5245 - val_accuracy: 0.8358\n",
      "Epoch 6/30\n",
      "96/96 [==============================] - 12s 121ms/step - loss: 0.2183 - accuracy: 0.9302 - val_loss: 0.5385 - val_accuracy: 0.8416\n",
      "Epoch 7/30\n",
      "96/96 [==============================] - 12s 121ms/step - loss: 0.1562 - accuracy: 0.9612 - val_loss: 0.5762 - val_accuracy: 0.8240\n",
      "Epoch 8/30\n",
      "96/96 [==============================] - 12s 121ms/step - loss: 0.1250 - accuracy: 0.9681 - val_loss: 0.5557 - val_accuracy: 0.8211\n",
      "Epoch 9/30\n",
      "96/96 [==============================] - 12s 121ms/step - loss: 0.1050 - accuracy: 0.9752 - val_loss: 0.5868 - val_accuracy: 0.8328\n",
      "Epoch 10/30\n",
      "96/96 [==============================] - 12s 120ms/step - loss: 0.0869 - accuracy: 0.9804 - val_loss: 0.5702 - val_accuracy: 0.8387\n",
      "Epoch 11/30\n",
      "96/96 [==============================] - 12s 121ms/step - loss: 0.0760 - accuracy: 0.9821 - val_loss: 0.6010 - val_accuracy: 0.8270\n",
      "Epoch 12/30\n",
      "96/96 [==============================] - 12s 121ms/step - loss: 0.0563 - accuracy: 0.9876 - val_loss: 0.6286 - val_accuracy: 0.8387\n",
      "Epoch 13/30\n",
      "96/96 [==============================] - 12s 121ms/step - loss: 0.0519 - accuracy: 0.9879 - val_loss: 0.6661 - val_accuracy: 0.8182\n",
      "Epoch 14/30\n",
      "96/96 [==============================] - 12s 121ms/step - loss: 0.0558 - accuracy: 0.9870 - val_loss: 0.6880 - val_accuracy: 0.8240\n",
      "Epoch 15/30\n",
      "96/96 [==============================] - 12s 121ms/step - loss: 0.0433 - accuracy: 0.9902 - val_loss: 0.6725 - val_accuracy: 0.8299\n",
      "Epoch 16/30\n",
      "96/96 [==============================] - 12s 121ms/step - loss: 0.0364 - accuracy: 0.9925 - val_loss: 0.6708 - val_accuracy: 0.8270\n",
      "Epoch 17/30\n",
      "96/96 [==============================] - 12s 122ms/step - loss: 0.0345 - accuracy: 0.9935 - val_loss: 0.6820 - val_accuracy: 0.8358\n",
      "Epoch 18/30\n",
      "96/96 [==============================] - 12s 121ms/step - loss: 0.0278 - accuracy: 0.9958 - val_loss: 0.6954 - val_accuracy: 0.8182\n",
      "Epoch 19/30\n",
      "96/96 [==============================] - 12s 122ms/step - loss: 0.0268 - accuracy: 0.9954 - val_loss: 0.6952 - val_accuracy: 0.8270\n",
      "Epoch 20/30\n",
      "96/96 [==============================] - 12s 122ms/step - loss: 0.0239 - accuracy: 0.9961 - val_loss: 0.7087 - val_accuracy: 0.8328\n",
      "Epoch 21/30\n",
      "96/96 [==============================] - 12s 121ms/step - loss: 0.0246 - accuracy: 0.9958 - val_loss: 0.7153 - val_accuracy: 0.8182\n",
      "Epoch 22/30\n",
      "96/96 [==============================] - 12s 121ms/step - loss: 0.0180 - accuracy: 0.9971 - val_loss: 0.7169 - val_accuracy: 0.8475\n",
      "Epoch 23/30\n",
      "96/96 [==============================] - 12s 122ms/step - loss: 0.0191 - accuracy: 0.9974 - val_loss: 0.7582 - val_accuracy: 0.8328\n",
      "Epoch 24/30\n",
      "96/96 [==============================] - 12s 121ms/step - loss: 0.0261 - accuracy: 0.9928 - val_loss: 0.7203 - val_accuracy: 0.8328\n",
      "Epoch 25/30\n",
      "96/96 [==============================] - 12s 122ms/step - loss: 0.0296 - accuracy: 0.9928 - val_loss: 0.7448 - val_accuracy: 0.8211\n",
      "Epoch 26/30\n",
      "96/96 [==============================] - 12s 121ms/step - loss: 0.0196 - accuracy: 0.9967 - val_loss: 0.7878 - val_accuracy: 0.8211\n",
      "Epoch 27/30\n",
      "96/96 [==============================] - 12s 121ms/step - loss: 0.0149 - accuracy: 0.9967 - val_loss: 0.8105 - val_accuracy: 0.8299\n",
      "Epoch 28/30\n",
      "96/96 [==============================] - 12s 122ms/step - loss: 0.0179 - accuracy: 0.9967 - val_loss: 0.7271 - val_accuracy: 0.8211\n",
      "Epoch 29/30\n",
      "96/96 [==============================] - 12s 121ms/step - loss: 0.0141 - accuracy: 0.9980 - val_loss: 0.8004 - val_accuracy: 0.8328\n",
      "Epoch 30/30\n",
      "96/96 [==============================] - 12s 121ms/step - loss: 0.0152 - accuracy: 0.9954 - val_loss: 0.8235 - val_accuracy: 0.8211\n",
      "\n",
      "\n",
      "0.5\n",
      "Epoch 1/30\n",
      "96/96 [==============================] - 15s 131ms/step - loss: 1.2618 - accuracy: 0.5838 - val_loss: 0.6847 - val_accuracy: 0.7830\n",
      "Epoch 2/30\n",
      "96/96 [==============================] - 12s 121ms/step - loss: 0.8329 - accuracy: 0.7213 - val_loss: 0.6403 - val_accuracy: 0.7859\n",
      "Epoch 3/30\n",
      "96/96 [==============================] - 12s 121ms/step - loss: 0.6780 - accuracy: 0.7637 - val_loss: 0.5931 - val_accuracy: 0.8035\n",
      "Epoch 4/30\n",
      "96/96 [==============================] - 12s 122ms/step - loss: 0.5937 - accuracy: 0.7950 - val_loss: 0.5643 - val_accuracy: 0.8182\n",
      "Epoch 5/30\n",
      "96/96 [==============================] - 12s 121ms/step - loss: 0.4924 - accuracy: 0.8272 - val_loss: 0.5221 - val_accuracy: 0.8328\n",
      "Epoch 6/30\n",
      "96/96 [==============================] - 12s 121ms/step - loss: 0.4431 - accuracy: 0.8383 - val_loss: 0.5190 - val_accuracy: 0.8358\n",
      "Epoch 7/30\n",
      "96/96 [==============================] - 12s 121ms/step - loss: 0.4198 - accuracy: 0.8468 - val_loss: 0.5720 - val_accuracy: 0.8035\n",
      "Epoch 8/30\n",
      "96/96 [==============================] - 12s 122ms/step - loss: 0.3560 - accuracy: 0.8778 - val_loss: 0.4948 - val_accuracy: 0.8328\n",
      "Epoch 9/30\n",
      "96/96 [==============================] - 12s 122ms/step - loss: 0.3304 - accuracy: 0.8859 - val_loss: 0.5307 - val_accuracy: 0.8240\n",
      "Epoch 10/30\n",
      "96/96 [==============================] - 12s 122ms/step - loss: 0.3007 - accuracy: 0.8937 - val_loss: 0.5155 - val_accuracy: 0.8270\n",
      "Epoch 11/30\n",
      "96/96 [==============================] - 12s 120ms/step - loss: 0.2645 - accuracy: 0.9081 - val_loss: 0.5124 - val_accuracy: 0.8328\n",
      "Epoch 12/30\n",
      "96/96 [==============================] - 12s 121ms/step - loss: 0.2523 - accuracy: 0.9123 - val_loss: 0.5338 - val_accuracy: 0.8240\n",
      "Epoch 13/30\n",
      "96/96 [==============================] - 12s 122ms/step - loss: 0.2108 - accuracy: 0.9309 - val_loss: 0.5328 - val_accuracy: 0.8446\n",
      "Epoch 14/30\n",
      "96/96 [==============================] - 12s 122ms/step - loss: 0.1957 - accuracy: 0.9296 - val_loss: 0.5369 - val_accuracy: 0.8358\n",
      "Epoch 15/30\n",
      "96/96 [==============================] - 12s 122ms/step - loss: 0.1793 - accuracy: 0.9423 - val_loss: 0.5427 - val_accuracy: 0.8299\n",
      "Epoch 16/30\n",
      "96/96 [==============================] - 12s 121ms/step - loss: 0.1745 - accuracy: 0.9423 - val_loss: 0.5480 - val_accuracy: 0.8328\n",
      "Epoch 17/30\n",
      "96/96 [==============================] - 12s 122ms/step - loss: 0.1469 - accuracy: 0.9482 - val_loss: 0.5352 - val_accuracy: 0.8534\n",
      "Epoch 18/30\n",
      "96/96 [==============================] - 12s 122ms/step - loss: 0.1410 - accuracy: 0.9537 - val_loss: 0.5542 - val_accuracy: 0.8416\n",
      "Epoch 19/30\n",
      "96/96 [==============================] - 12s 120ms/step - loss: 0.1384 - accuracy: 0.9566 - val_loss: 0.5624 - val_accuracy: 0.8328\n",
      "Epoch 20/30\n",
      "96/96 [==============================] - 12s 121ms/step - loss: 0.1150 - accuracy: 0.9609 - val_loss: 0.6222 - val_accuracy: 0.8387\n",
      "Epoch 21/30\n",
      "96/96 [==============================] - 12s 121ms/step - loss: 0.1150 - accuracy: 0.9648 - val_loss: 0.5811 - val_accuracy: 0.8534\n",
      "Epoch 22/30\n",
      "96/96 [==============================] - 12s 122ms/step - loss: 0.1134 - accuracy: 0.9628 - val_loss: 0.5960 - val_accuracy: 0.8299\n",
      "Epoch 23/30\n",
      "96/96 [==============================] - 12s 121ms/step - loss: 0.0983 - accuracy: 0.9671 - val_loss: 0.5812 - val_accuracy: 0.8387\n",
      "Epoch 24/30\n",
      "96/96 [==============================] - 12s 121ms/step - loss: 0.1061 - accuracy: 0.9661 - val_loss: 0.6311 - val_accuracy: 0.8358\n",
      "Epoch 25/30\n",
      "96/96 [==============================] - 12s 122ms/step - loss: 0.1104 - accuracy: 0.9615 - val_loss: 0.6436 - val_accuracy: 0.8328\n",
      "Epoch 26/30\n",
      "96/96 [==============================] - 12s 120ms/step - loss: 0.0990 - accuracy: 0.9700 - val_loss: 0.6738 - val_accuracy: 0.8534\n",
      "Epoch 27/30\n",
      "96/96 [==============================] - 12s 122ms/step - loss: 0.0921 - accuracy: 0.9713 - val_loss: 0.6365 - val_accuracy: 0.8328\n",
      "Epoch 28/30\n",
      "96/96 [==============================] - 12s 122ms/step - loss: 0.0900 - accuracy: 0.9710 - val_loss: 0.7445 - val_accuracy: 0.8240\n",
      "Epoch 29/30\n",
      "96/96 [==============================] - 12s 121ms/step - loss: 0.0765 - accuracy: 0.9736 - val_loss: 0.6243 - val_accuracy: 0.8446\n",
      "Epoch 30/30\n",
      "96/96 [==============================] - 12s 122ms/step - loss: 0.0860 - accuracy: 0.9716 - val_loss: 0.6486 - val_accuracy: 0.8328\n",
      "\n",
      "\n",
      "0.8\n",
      "Epoch 1/30\n",
      "96/96 [==============================] - 15s 130ms/step - loss: 1.8190 - accuracy: 0.3807 - val_loss: 1.1476 - val_accuracy: 0.6246\n",
      "Epoch 2/30\n",
      "96/96 [==============================] - 12s 122ms/step - loss: 1.4283 - accuracy: 0.5065 - val_loss: 0.9827 - val_accuracy: 0.7126\n",
      "Epoch 3/30\n",
      "96/96 [==============================] - 12s 122ms/step - loss: 1.2910 - accuracy: 0.5518 - val_loss: 0.8836 - val_accuracy: 0.7273\n",
      "Epoch 4/30\n",
      "96/96 [==============================] - 12s 121ms/step - loss: 1.2172 - accuracy: 0.5596 - val_loss: 0.7997 - val_accuracy: 0.7566\n",
      "Epoch 5/30\n",
      "96/96 [==============================] - 12s 122ms/step - loss: 1.1596 - accuracy: 0.5821 - val_loss: 0.7708 - val_accuracy: 0.7625\n",
      "Epoch 6/30\n",
      "96/96 [==============================] - 12s 121ms/step - loss: 1.0695 - accuracy: 0.6154 - val_loss: 0.7171 - val_accuracy: 0.7566\n",
      "Epoch 7/30\n",
      "96/96 [==============================] - 12s 120ms/step - loss: 1.0219 - accuracy: 0.6213 - val_loss: 0.6883 - val_accuracy: 0.7889\n",
      "Epoch 8/30\n",
      "96/96 [==============================] - 12s 121ms/step - loss: 1.0321 - accuracy: 0.6232 - val_loss: 0.6835 - val_accuracy: 0.7742\n",
      "Epoch 9/30\n",
      "96/96 [==============================] - 12s 122ms/step - loss: 0.9754 - accuracy: 0.6340 - val_loss: 0.6950 - val_accuracy: 0.8182\n",
      "Epoch 10/30\n",
      "96/96 [==============================] - 12s 121ms/step - loss: 0.9855 - accuracy: 0.6362 - val_loss: 0.6459 - val_accuracy: 0.7830\n",
      "Epoch 11/30\n",
      "96/96 [==============================] - 12s 121ms/step - loss: 0.9519 - accuracy: 0.6522 - val_loss: 0.6544 - val_accuracy: 0.8035\n",
      "Epoch 12/30\n",
      "96/96 [==============================] - 12s 122ms/step - loss: 0.9500 - accuracy: 0.6467 - val_loss: 0.6486 - val_accuracy: 0.7947\n",
      "Epoch 13/30\n",
      "96/96 [==============================] - 12s 122ms/step - loss: 0.9091 - accuracy: 0.6659 - val_loss: 0.6509 - val_accuracy: 0.7771\n",
      "Epoch 14/30\n",
      "96/96 [==============================] - 12s 122ms/step - loss: 0.9216 - accuracy: 0.6470 - val_loss: 0.6223 - val_accuracy: 0.7977\n",
      "Epoch 15/30\n",
      "96/96 [==============================] - 12s 121ms/step - loss: 0.8673 - accuracy: 0.6741 - val_loss: 0.6002 - val_accuracy: 0.7977\n",
      "Epoch 16/30\n",
      "96/96 [==============================] - 12s 122ms/step - loss: 0.8389 - accuracy: 0.6825 - val_loss: 0.6185 - val_accuracy: 0.7830\n",
      "Epoch 17/30\n",
      "96/96 [==============================] - 12s 123ms/step - loss: 0.8274 - accuracy: 0.6861 - val_loss: 0.5967 - val_accuracy: 0.8035\n",
      "Epoch 18/30\n",
      "96/96 [==============================] - 12s 122ms/step - loss: 0.8202 - accuracy: 0.6848 - val_loss: 0.5833 - val_accuracy: 0.8123\n",
      "Epoch 19/30\n",
      "96/96 [==============================] - 12s 121ms/step - loss: 0.7985 - accuracy: 0.6874 - val_loss: 0.5785 - val_accuracy: 0.8094\n",
      "Epoch 20/30\n",
      "96/96 [==============================] - 12s 122ms/step - loss: 0.7920 - accuracy: 0.6939 - val_loss: 0.5953 - val_accuracy: 0.8006\n",
      "Epoch 21/30\n",
      "96/96 [==============================] - 12s 122ms/step - loss: 0.7924 - accuracy: 0.7008 - val_loss: 0.5725 - val_accuracy: 0.8094\n",
      "Epoch 22/30\n",
      "96/96 [==============================] - 12s 122ms/step - loss: 0.7775 - accuracy: 0.6972 - val_loss: 0.5782 - val_accuracy: 0.8094\n",
      "Epoch 23/30\n",
      "96/96 [==============================] - 12s 122ms/step - loss: 0.7709 - accuracy: 0.7106 - val_loss: 0.5801 - val_accuracy: 0.8065\n",
      "Epoch 24/30\n",
      "96/96 [==============================] - 12s 121ms/step - loss: 0.7469 - accuracy: 0.7024 - val_loss: 0.5758 - val_accuracy: 0.8006\n",
      "Epoch 25/30\n",
      "96/96 [==============================] - 12s 122ms/step - loss: 0.7363 - accuracy: 0.6965 - val_loss: 0.5930 - val_accuracy: 0.8035\n",
      "Epoch 26/30\n",
      "96/96 [==============================] - 12s 121ms/step - loss: 0.6998 - accuracy: 0.7174 - val_loss: 0.5668 - val_accuracy: 0.8328\n",
      "Epoch 27/30\n",
      "96/96 [==============================] - 12s 121ms/step - loss: 0.7286 - accuracy: 0.7187 - val_loss: 0.5669 - val_accuracy: 0.8240\n",
      "Epoch 28/30\n",
      "96/96 [==============================] - 12s 120ms/step - loss: 0.7088 - accuracy: 0.7314 - val_loss: 0.5490 - val_accuracy: 0.8094\n",
      "Epoch 29/30\n",
      "96/96 [==============================] - 12s 120ms/step - loss: 0.6842 - accuracy: 0.7301 - val_loss: 0.5622 - val_accuracy: 0.8211\n",
      "Epoch 30/30\n",
      "96/96 [==============================] - 12s 122ms/step - loss: 0.7023 - accuracy: 0.7314 - val_loss: 0.5461 - val_accuracy: 0.8358\n",
      "\n",
      "\n"
     ]
    }
   ],
   "source": [
    "scores = {}\n",
    "\n",
    "for droprate in [0.0, 0.2, 0.5, 0.8]:\n",
    "    print(droprate)\n",
    "\n",
    "    model = make_model(droprate=droprate)\n",
    "\n",
    "    history = model.fit(train_ds, epochs=30, validation_data=val_ds)\n",
    "    scores[droprate] = history.history\n",
    "\n",
    "    print()\n",
    "    print()"
   ]
  },
  {
   "cell_type": "code",
   "execution_count": 15,
   "id": "5bae63b9-8dd9-4afa-8bcb-62ec9fee2676",
   "metadata": {
    "execution": {
     "iopub.execute_input": "2023-11-19T09:07:57.617390Z",
     "iopub.status.busy": "2023-11-19T09:07:57.616978Z",
     "iopub.status.idle": "2023-11-19T09:07:57.775103Z",
     "shell.execute_reply": "2023-11-19T09:07:57.774348Z",
     "shell.execute_reply.started": "2023-11-19T09:07:57.617361Z"
    },
    "tags": []
   },
   "outputs": [
    {
     "data": {
      "image/png": "[encoded data removed]",
      "text/plain": [
       "<Figure size 640x480 with 1 Axes>"
      ]
     },
     "metadata": {},
     "output_type": "display_data"
    }
   ],
   "source": [
    "for droprate, history in scores.items():\n",
    "    plt.plot(history['val_accuracy'], label=f'droprate={droprate}')\n",
    "\n",
    "    \n",
    "plt.title('Validation accuracy')\n",
    "plt.xticks(range(0, 31, 2))\n",
    "plt.legend();"
   ]
  },
  {
   "cell_type": "code",
   "execution_count": 16,
   "id": "77b63ee3-8032-4cb5-8782-751431fb3652",
   "metadata": {
    "execution": {
     "iopub.execute_input": "2023-11-19T09:20:55.192607Z",
     "iopub.status.busy": "2023-11-19T09:20:55.192174Z",
     "iopub.status.idle": "2023-11-19T09:20:55.352790Z",
     "shell.execute_reply": "2023-11-19T09:20:55.352025Z",
     "shell.execute_reply.started": "2023-11-19T09:20:55.192581Z"
    }
   },
   "outputs": [
    {
     "data": {
      "image/png": "[encoded data removed]",
      "text/plain": [
       "<Figure size 640x480 with 1 Axes>"
      ]
     },
     "metadata": {},
     "output_type": "display_data"
    }
   ],
   "source": [
    "for droprate, history in scores.items():\n",
    "    plt.plot(history['accuracy'], label=f'droprate={droprate}')\n",
    "\n",
    "    \n",
    "plt.title('Training accuracy')\n",
    "plt.xticks(range(0, 31, 2))\n",
    "plt.legend();"
   ]
  },
  {
   "cell_type": "code",
   "execution_count": 24,
   "id": "3eb36f72-71b5-4659-a36c-06971910835d",
   "metadata": {
    "execution": {
     "iopub.execute_input": "2023-11-19T09:24:32.434503Z",
     "iopub.status.busy": "2023-11-19T09:24:32.434104Z",
     "iopub.status.idle": "2023-11-19T09:24:32.552351Z",
     "shell.execute_reply": "2023-11-19T09:24:32.551543Z",
     "shell.execute_reply.started": "2023-11-19T09:24:32.434472Z"
    },
    "tags": []
   },
   "outputs": [
    {
     "data": {
      "text/plain": [
       "[<matplotlib.lines.Line2D at 0x7f6ce0397910>]"
      ]
     },
     "execution_count": 24,
     "metadata": {},
     "output_type": "execute_result"
    },
    {
     "data": {
      "image/png": "[encoded data removed]",
      "text/plain": [
       "<Figure size 640x480 with 1 Axes>"
      ]
     },
     "metadata": {},
     "output_type": "display_data"
    }
   ],
   "source": [
    "hist = scores[0.5]\n",
    "plt.plot(hist['val_accuracy'])\n",
    "plt.plot(hist['accuracy'])"
   ]
  },
  {
   "cell_type": "code",
   "execution_count": null,
   "id": "8897d4e1-5aa3-45b7-9bb7-2e97f0387af0",
   "metadata": {},
   "outputs": [],
   "source": []
  }
 ],
 "metadata": {
  "kernelspec": {
   "display_name": "saturn (Python 3)",
   "language": "python",
   "name": "python3"
  },
  "language_info": {
   "codemirror_mode": {
    "name": "ipython",
    "version": 3
   },
   "file_extension": ".py",
   "mimetype": "text/x-python",
   "name": "python",
   "nbconvert_exporter": "python",
   "pygments_lexer": "ipython3",
   "version": "3.10.13"
  },
  "toc-showmarkdowntxt": false,
  "toc-showtags": false
 },
 "nbformat": 4,
 "nbformat_minor": 5
}
